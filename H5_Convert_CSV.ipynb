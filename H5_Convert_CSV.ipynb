{
 "cells": [
  {
   "cell_type": "code",
   "execution_count": 18,
   "metadata": {},
   "outputs": [],
   "source": [
    "import h5py\n",
    "import os\n",
    "import numpy as np\n",
    "import pandas as pd"
   ]
  },
  {
   "cell_type": "code",
   "execution_count": 19,
   "metadata": {},
   "outputs": [],
   "source": [
    "os.chdir('/Users/sunnyyou/Documents/Real_Time_HAI/HPCNN/H5/')"
   ]
  },
  {
   "cell_type": "code",
   "execution_count": 31,
   "metadata": {},
   "outputs": [
    {
     "name": "stdout",
     "output_type": "stream",
     "text": [
      "<KeysViewHDF5 ['Grid']>\n"
     ]
    }
   ],
   "source": [
    "f = h5py.File('3B-HHR-E.MS.MRG.3IMERG.20230907-S173000-E175959.1050.V06D.RT-H5', 'r')\n",
    "print(f.keys())"
   ]
  },
  {
   "cell_type": "code",
   "execution_count": 32,
   "metadata": {},
   "outputs": [
    {
     "name": "stdout",
     "output_type": "stream",
     "text": [
      "<KeysViewHDF5 ['nv', 'lonv', 'latv', 'time', 'lon', 'lat', 'time_bnds', 'lon_bnds', 'lat_bnds', 'precipitationCal', 'precipitationUncal', 'randomError', 'HQprecipitation', 'HQprecipSource', 'HQobservationTime', 'IRprecipitation', 'IRkalmanFilterWeight', 'probabilityLiquidPrecipitation', 'precipitationQualityIndex']>\n"
     ]
    }
   ],
   "source": [
    "grid = f['Grid']\n",
    "print(grid.keys())"
   ]
  },
  {
   "cell_type": "code",
   "execution_count": 33,
   "metadata": {},
   "outputs": [
    {
     "name": "stdout",
     "output_type": "stream",
     "text": [
      "<HDF5 dataset \"lon\": shape (3600,), type \"<f4\">\n"
     ]
    }
   ],
   "source": [
    "print(grid['lon'])"
   ]
  },
  {
   "cell_type": "code",
   "execution_count": 34,
   "metadata": {},
   "outputs": [
    {
     "data": {
      "text/plain": [
       "89.95"
      ]
     },
     "execution_count": 34,
     "metadata": {},
     "output_type": "execute_result"
    }
   ],
   "source": [
    "max(list(grid['lat']))"
   ]
  },
  {
   "cell_type": "code",
   "execution_count": 35,
   "metadata": {},
   "outputs": [
    {
     "data": {
      "text/html": [
       "<div>\n",
       "<style scoped>\n",
       "    .dataframe tbody tr th:only-of-type {\n",
       "        vertical-align: middle;\n",
       "    }\n",
       "\n",
       "    .dataframe tbody tr th {\n",
       "        vertical-align: top;\n",
       "    }\n",
       "\n",
       "    .dataframe thead th {\n",
       "        text-align: right;\n",
       "    }\n",
       "</style>\n",
       "<table border=\"1\" class=\"dataframe\">\n",
       "  <thead>\n",
       "    <tr style=\"text-align: right;\">\n",
       "      <th></th>\n",
       "      <th>longitude (degrees_east)</th>\n",
       "      <th>latitude (degrees_north)</th>\n",
       "      <th>Precipitation (mm/hr)</th>\n",
       "    </tr>\n",
       "  </thead>\n",
       "  <tbody>\n",
       "    <tr>\n",
       "      <th>0</th>\n",
       "      <td>-179.949997</td>\n",
       "      <td>-89.949997</td>\n",
       "      <td>-9999.900391</td>\n",
       "    </tr>\n",
       "    <tr>\n",
       "      <th>1</th>\n",
       "      <td>-179.949997</td>\n",
       "      <td>-89.849998</td>\n",
       "      <td>-9999.900391</td>\n",
       "    </tr>\n",
       "    <tr>\n",
       "      <th>2</th>\n",
       "      <td>-179.949997</td>\n",
       "      <td>-89.750000</td>\n",
       "      <td>-9999.900391</td>\n",
       "    </tr>\n",
       "    <tr>\n",
       "      <th>3</th>\n",
       "      <td>-179.949997</td>\n",
       "      <td>-89.650002</td>\n",
       "      <td>-9999.900391</td>\n",
       "    </tr>\n",
       "    <tr>\n",
       "      <th>4</th>\n",
       "      <td>-179.949997</td>\n",
       "      <td>-89.550003</td>\n",
       "      <td>-9999.900391</td>\n",
       "    </tr>\n",
       "  </tbody>\n",
       "</table>\n",
       "</div>"
      ],
      "text/plain": [
       "   longitude (degrees_east)  latitude (degrees_north)  Precipitation (mm/hr)\n",
       "0               -179.949997                -89.949997           -9999.900391\n",
       "1               -179.949997                -89.849998           -9999.900391\n",
       "2               -179.949997                -89.750000           -9999.900391\n",
       "3               -179.949997                -89.650002           -9999.900391\n",
       "4               -179.949997                -89.550003           -9999.900391"
      ]
     },
     "execution_count": 35,
     "metadata": {},
     "output_type": "execute_result"
    }
   ],
   "source": [
    "longitude_values = np.repeat(list(grid['lon']), 1800)\n",
    "latitude_values = list(grid['lat'])*3600\n",
    "precipitation_values = np.array(list(grid['precipitationCal'])).flatten()\n",
    "\n",
    "dataset = pd.DataFrame({\"lon\": longitude_values, \"lat\": latitude_values, \"precipitation\": precipitation_values})\n",
    "dataset.columns = [grid['lon'].attrs['standard_name'].decode() + \" (\" + grid['lon'].attrs['units'].decode() + \")\",\n",
    "                   grid['lat'].attrs['standard_name'].decode() + \" (\" + grid['lat'].attrs['units'].decode() + \")\",\n",
    "                   \"Precipitation (\" + grid['precipitationCal'].attrs['units'].decode() + \")\",]\n",
    "dataset.head()"
   ]
  },
  {
   "cell_type": "code",
   "execution_count": 36,
   "metadata": {},
   "outputs": [
    {
     "data": {
      "text/plain": [
       "89.95"
      ]
     },
     "execution_count": 36,
     "metadata": {},
     "output_type": "execute_result"
    }
   ],
   "source": [
    "np.amax(dataset['latitude (degrees_north)'])"
   ]
  },
  {
   "cell_type": "code",
   "execution_count": 38,
   "metadata": {},
   "outputs": [],
   "source": [
    "dataset.to_csv('IMERG_20230907_1800Z.csv', index=False)"
   ]
  },
  {
   "cell_type": "code",
   "execution_count": 39,
   "metadata": {},
   "outputs": [
    {
     "name": "stdout",
     "output_type": "stream",
     "text": [
      "(14641, 3)\n"
     ]
    },
    {
     "data": {
      "text/html": [
       "<div>\n",
       "<style scoped>\n",
       "    .dataframe tbody tr th:only-of-type {\n",
       "        vertical-align: middle;\n",
       "    }\n",
       "\n",
       "    .dataframe tbody tr th {\n",
       "        vertical-align: top;\n",
       "    }\n",
       "\n",
       "    .dataframe thead th {\n",
       "        text-align: right;\n",
       "    }\n",
       "</style>\n",
       "<table border=\"1\" class=\"dataframe\">\n",
       "  <thead>\n",
       "    <tr style=\"text-align: right;\">\n",
       "      <th></th>\n",
       "      <th>longitude (degrees_east)</th>\n",
       "      <th>latitude (degrees_north)</th>\n",
       "      <th>Precipitation (mm/hr)</th>\n",
       "    </tr>\n",
       "  </thead>\n",
       "  <tbody>\n",
       "    <tr>\n",
       "      <th>2218606</th>\n",
       "      <td>-56.75</td>\n",
       "      <td>10.65</td>\n",
       "      <td>0.0</td>\n",
       "    </tr>\n",
       "    <tr>\n",
       "      <th>2218607</th>\n",
       "      <td>-56.75</td>\n",
       "      <td>10.75</td>\n",
       "      <td>0.0</td>\n",
       "    </tr>\n",
       "    <tr>\n",
       "      <th>2218608</th>\n",
       "      <td>-56.75</td>\n",
       "      <td>10.85</td>\n",
       "      <td>0.0</td>\n",
       "    </tr>\n",
       "    <tr>\n",
       "      <th>2218609</th>\n",
       "      <td>-56.75</td>\n",
       "      <td>10.95</td>\n",
       "      <td>0.0</td>\n",
       "    </tr>\n",
       "    <tr>\n",
       "      <th>2218610</th>\n",
       "      <td>-56.75</td>\n",
       "      <td>11.05</td>\n",
       "      <td>0.0</td>\n",
       "    </tr>\n",
       "  </tbody>\n",
       "</table>\n",
       "</div>"
      ],
      "text/plain": [
       "         longitude (degrees_east)  latitude (degrees_north)   \n",
       "2218606                    -56.75                     10.65  \\\n",
       "2218607                    -56.75                     10.75   \n",
       "2218608                    -56.75                     10.85   \n",
       "2218609                    -56.75                     10.95   \n",
       "2218610                    -56.75                     11.05   \n",
       "\n",
       "         Precipitation (mm/hr)  \n",
       "2218606                    0.0  \n",
       "2218607                    0.0  \n",
       "2218608                    0.0  \n",
       "2218609                    0.0  \n",
       "2218610                    0.0  "
      ]
     },
     "execution_count": 39,
     "metadata": {},
     "output_type": "execute_result"
    }
   ],
   "source": [
    "dataset = dataset[dataset['longitude (degrees_east)'] <= -44.7]\n",
    "dataset = dataset[dataset['longitude (degrees_east)'] >= -56.8]\n",
    "dataset = dataset[dataset['latitude (degrees_north)'] <= 22.7]\n",
    "dataset = dataset[dataset['latitude (degrees_north)'] >= 10.6]\n",
    "print(dataset.shape)\n",
    "dataset.head()"
   ]
  },
  {
   "cell_type": "code",
   "execution_count": 40,
   "metadata": {},
   "outputs": [],
   "source": [
    "image = dataset.pivot(index='latitude (degrees_north)', columns='longitude (degrees_east)', values='Precipitation (mm/hr)')\n",
    "image = image.T"
   ]
  },
  {
   "cell_type": "code",
   "execution_count": 41,
   "metadata": {},
   "outputs": [
    {
     "data": {
      "text/html": [
       "<div>\n",
       "<style scoped>\n",
       "    .dataframe tbody tr th:only-of-type {\n",
       "        vertical-align: middle;\n",
       "    }\n",
       "\n",
       "    .dataframe tbody tr th {\n",
       "        vertical-align: top;\n",
       "    }\n",
       "\n",
       "    .dataframe thead th {\n",
       "        text-align: right;\n",
       "    }\n",
       "</style>\n",
       "<table border=\"1\" class=\"dataframe\">\n",
       "  <thead>\n",
       "    <tr style=\"text-align: right;\">\n",
       "      <th>latitude (degrees_north)</th>\n",
       "      <th>10.650000</th>\n",
       "      <th>10.750000</th>\n",
       "      <th>10.850000</th>\n",
       "      <th>10.950000</th>\n",
       "      <th>11.050000</th>\n",
       "      <th>11.150000</th>\n",
       "      <th>11.250000</th>\n",
       "      <th>11.350000</th>\n",
       "      <th>11.450000</th>\n",
       "      <th>11.550000</th>\n",
       "      <th>...</th>\n",
       "      <th>21.750000</th>\n",
       "      <th>21.850000</th>\n",
       "      <th>21.950001</th>\n",
       "      <th>22.049999</th>\n",
       "      <th>22.150000</th>\n",
       "      <th>22.250000</th>\n",
       "      <th>22.350000</th>\n",
       "      <th>22.450001</th>\n",
       "      <th>22.549999</th>\n",
       "      <th>22.650000</th>\n",
       "    </tr>\n",
       "    <tr>\n",
       "      <th>longitude (degrees_east)</th>\n",
       "      <th></th>\n",
       "      <th></th>\n",
       "      <th></th>\n",
       "      <th></th>\n",
       "      <th></th>\n",
       "      <th></th>\n",
       "      <th></th>\n",
       "      <th></th>\n",
       "      <th></th>\n",
       "      <th></th>\n",
       "      <th></th>\n",
       "      <th></th>\n",
       "      <th></th>\n",
       "      <th></th>\n",
       "      <th></th>\n",
       "      <th></th>\n",
       "      <th></th>\n",
       "      <th></th>\n",
       "      <th></th>\n",
       "      <th></th>\n",
       "      <th></th>\n",
       "    </tr>\n",
       "  </thead>\n",
       "  <tbody>\n",
       "    <tr>\n",
       "      <th>-56.750000</th>\n",
       "      <td>0.0</td>\n",
       "      <td>0.0</td>\n",
       "      <td>0.0</td>\n",
       "      <td>0.0</td>\n",
       "      <td>0.0</td>\n",
       "      <td>0.0</td>\n",
       "      <td>0.0</td>\n",
       "      <td>0.0</td>\n",
       "      <td>0.0</td>\n",
       "      <td>0.0</td>\n",
       "      <td>...</td>\n",
       "      <td>0.0</td>\n",
       "      <td>0.0</td>\n",
       "      <td>0.0</td>\n",
       "      <td>0.0</td>\n",
       "      <td>0.0</td>\n",
       "      <td>0.0</td>\n",
       "      <td>0.0</td>\n",
       "      <td>0.0</td>\n",
       "      <td>0.0</td>\n",
       "      <td>0.0</td>\n",
       "    </tr>\n",
       "    <tr>\n",
       "      <th>-56.650002</th>\n",
       "      <td>0.0</td>\n",
       "      <td>0.0</td>\n",
       "      <td>0.0</td>\n",
       "      <td>0.0</td>\n",
       "      <td>0.0</td>\n",
       "      <td>0.0</td>\n",
       "      <td>0.0</td>\n",
       "      <td>0.0</td>\n",
       "      <td>0.0</td>\n",
       "      <td>0.0</td>\n",
       "      <td>...</td>\n",
       "      <td>0.0</td>\n",
       "      <td>0.0</td>\n",
       "      <td>0.0</td>\n",
       "      <td>0.0</td>\n",
       "      <td>0.0</td>\n",
       "      <td>0.0</td>\n",
       "      <td>0.0</td>\n",
       "      <td>0.0</td>\n",
       "      <td>0.0</td>\n",
       "      <td>0.0</td>\n",
       "    </tr>\n",
       "    <tr>\n",
       "      <th>-56.549999</th>\n",
       "      <td>0.0</td>\n",
       "      <td>0.0</td>\n",
       "      <td>0.0</td>\n",
       "      <td>0.0</td>\n",
       "      <td>0.0</td>\n",
       "      <td>0.0</td>\n",
       "      <td>0.0</td>\n",
       "      <td>0.0</td>\n",
       "      <td>0.0</td>\n",
       "      <td>0.0</td>\n",
       "      <td>...</td>\n",
       "      <td>0.0</td>\n",
       "      <td>0.0</td>\n",
       "      <td>0.0</td>\n",
       "      <td>0.0</td>\n",
       "      <td>0.0</td>\n",
       "      <td>0.0</td>\n",
       "      <td>0.0</td>\n",
       "      <td>0.0</td>\n",
       "      <td>0.0</td>\n",
       "      <td>0.0</td>\n",
       "    </tr>\n",
       "    <tr>\n",
       "      <th>-56.450001</th>\n",
       "      <td>0.0</td>\n",
       "      <td>0.0</td>\n",
       "      <td>0.0</td>\n",
       "      <td>0.0</td>\n",
       "      <td>0.0</td>\n",
       "      <td>0.0</td>\n",
       "      <td>0.0</td>\n",
       "      <td>0.0</td>\n",
       "      <td>0.0</td>\n",
       "      <td>0.0</td>\n",
       "      <td>...</td>\n",
       "      <td>0.0</td>\n",
       "      <td>0.0</td>\n",
       "      <td>0.0</td>\n",
       "      <td>0.0</td>\n",
       "      <td>0.0</td>\n",
       "      <td>0.0</td>\n",
       "      <td>0.0</td>\n",
       "      <td>0.0</td>\n",
       "      <td>0.0</td>\n",
       "      <td>0.0</td>\n",
       "    </tr>\n",
       "    <tr>\n",
       "      <th>-56.349998</th>\n",
       "      <td>0.0</td>\n",
       "      <td>0.0</td>\n",
       "      <td>0.0</td>\n",
       "      <td>0.0</td>\n",
       "      <td>0.0</td>\n",
       "      <td>0.0</td>\n",
       "      <td>0.0</td>\n",
       "      <td>0.0</td>\n",
       "      <td>0.0</td>\n",
       "      <td>0.0</td>\n",
       "      <td>...</td>\n",
       "      <td>0.0</td>\n",
       "      <td>0.0</td>\n",
       "      <td>0.0</td>\n",
       "      <td>0.0</td>\n",
       "      <td>0.0</td>\n",
       "      <td>0.0</td>\n",
       "      <td>0.0</td>\n",
       "      <td>0.0</td>\n",
       "      <td>0.0</td>\n",
       "      <td>0.0</td>\n",
       "    </tr>\n",
       "  </tbody>\n",
       "</table>\n",
       "<p>5 rows × 121 columns</p>\n",
       "</div>"
      ],
      "text/plain": [
       "latitude (degrees_north)  10.650000  10.750000  10.850000  10.950000   \n",
       "longitude (degrees_east)                                               \n",
       "-56.750000                      0.0        0.0        0.0        0.0  \\\n",
       "-56.650002                      0.0        0.0        0.0        0.0   \n",
       "-56.549999                      0.0        0.0        0.0        0.0   \n",
       "-56.450001                      0.0        0.0        0.0        0.0   \n",
       "-56.349998                      0.0        0.0        0.0        0.0   \n",
       "\n",
       "latitude (degrees_north)  11.050000  11.150000  11.250000  11.350000   \n",
       "longitude (degrees_east)                                               \n",
       "-56.750000                      0.0        0.0        0.0        0.0  \\\n",
       "-56.650002                      0.0        0.0        0.0        0.0   \n",
       "-56.549999                      0.0        0.0        0.0        0.0   \n",
       "-56.450001                      0.0        0.0        0.0        0.0   \n",
       "-56.349998                      0.0        0.0        0.0        0.0   \n",
       "\n",
       "latitude (degrees_north)  11.450000  11.550000  ...  21.750000  21.850000   \n",
       "longitude (degrees_east)                        ...                         \n",
       "-56.750000                      0.0        0.0  ...        0.0        0.0  \\\n",
       "-56.650002                      0.0        0.0  ...        0.0        0.0   \n",
       "-56.549999                      0.0        0.0  ...        0.0        0.0   \n",
       "-56.450001                      0.0        0.0  ...        0.0        0.0   \n",
       "-56.349998                      0.0        0.0  ...        0.0        0.0   \n",
       "\n",
       "latitude (degrees_north)  21.950001  22.049999  22.150000  22.250000   \n",
       "longitude (degrees_east)                                               \n",
       "-56.750000                      0.0        0.0        0.0        0.0  \\\n",
       "-56.650002                      0.0        0.0        0.0        0.0   \n",
       "-56.549999                      0.0        0.0        0.0        0.0   \n",
       "-56.450001                      0.0        0.0        0.0        0.0   \n",
       "-56.349998                      0.0        0.0        0.0        0.0   \n",
       "\n",
       "latitude (degrees_north)  22.350000  22.450001  22.549999  22.650000  \n",
       "longitude (degrees_east)                                              \n",
       "-56.750000                      0.0        0.0        0.0        0.0  \n",
       "-56.650002                      0.0        0.0        0.0        0.0  \n",
       "-56.549999                      0.0        0.0        0.0        0.0  \n",
       "-56.450001                      0.0        0.0        0.0        0.0  \n",
       "-56.349998                      0.0        0.0        0.0        0.0  \n",
       "\n",
       "[5 rows x 121 columns]"
      ]
     },
     "execution_count": 41,
     "metadata": {},
     "output_type": "execute_result"
    }
   ],
   "source": [
    "image = image.iloc[:, :]\n",
    "image.head()"
   ]
  },
  {
   "cell_type": "code",
   "execution_count": 42,
   "metadata": {},
   "outputs": [],
   "source": [
    "image.to_csv('ATL_202313_C3_2023090718.csv', index=False, header = False)"
   ]
  },
  {
   "cell_type": "code",
   "execution_count": null,
   "metadata": {},
   "outputs": [],
   "source": []
  }
 ],
 "metadata": {
  "kernelspec": {
   "display_name": "Python 3",
   "language": "python",
   "name": "python3"
  },
  "language_info": {
   "codemirror_mode": {
    "name": "ipython",
    "version": 3
   },
   "file_extension": ".py",
   "mimetype": "text/x-python",
   "name": "python",
   "nbconvert_exporter": "python",
   "pygments_lexer": "ipython3",
   "version": "3.11.3"
  },
  "orig_nbformat": 4
 },
 "nbformat": 4,
 "nbformat_minor": 2
}
