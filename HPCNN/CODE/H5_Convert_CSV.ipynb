{
 "cells": [
  {
   "cell_type": "code",
   "execution_count": 1,
   "metadata": {},
   "outputs": [],
   "source": [
    "import h5py\n",
    "import os\n",
    "import numpy as np\n",
    "import pandas as pd"
   ]
  },
  {
   "cell_type": "code",
   "execution_count": 3,
   "metadata": {},
   "outputs": [],
   "source": [
    "os.chdir('/Users/sunnyyou/Documents/Real_Time_HAI/HPCNN/H5/')"
   ]
  },
  {
   "cell_type": "code",
   "execution_count": 4,
   "metadata": {},
   "outputs": [
    {
     "name": "stdout",
     "output_type": "stream",
     "text": [
      "<KeysViewHDF5 ['Grid']>\n"
     ]
    }
   ],
   "source": [
    "f = h5py.File('3B-HHR-E.MS.MRG.3IMERG.20230906-S060000-E062959.0360.V06D.RT-H5', 'r')\n",
    "print(f.keys())"
   ]
  },
  {
   "cell_type": "code",
   "execution_count": 5,
   "metadata": {},
   "outputs": [
    {
     "name": "stdout",
     "output_type": "stream",
     "text": [
      "<KeysViewHDF5 ['nv', 'lonv', 'latv', 'time', 'lon', 'lat', 'time_bnds', 'lon_bnds', 'lat_bnds', 'precipitationCal', 'precipitationUncal', 'randomError', 'HQprecipitation', 'HQprecipSource', 'HQobservationTime', 'IRprecipitation', 'IRkalmanFilterWeight', 'probabilityLiquidPrecipitation', 'precipitationQualityIndex']>\n"
     ]
    }
   ],
   "source": [
    "grid = f['Grid']\n",
    "print(grid.keys())"
   ]
  },
  {
   "cell_type": "code",
   "execution_count": 6,
   "metadata": {},
   "outputs": [
    {
     "name": "stdout",
     "output_type": "stream",
     "text": [
      "<HDF5 dataset \"lon\": shape (3600,), type \"<f4\">\n"
     ]
    }
   ],
   "source": [
    "print(grid['lon'])"
   ]
  },
  {
   "cell_type": "code",
   "execution_count": 7,
   "metadata": {},
   "outputs": [
    {
     "data": {
      "text/plain": [
       "89.95"
      ]
     },
     "execution_count": 7,
     "metadata": {},
     "output_type": "execute_result"
    }
   ],
   "source": [
    "max(list(grid['lat']))"
   ]
  },
  {
   "cell_type": "code",
   "execution_count": 12,
   "metadata": {},
   "outputs": [
    {
     "data": {
      "text/html": [
       "<div>\n",
       "<style scoped>\n",
       "    .dataframe tbody tr th:only-of-type {\n",
       "        vertical-align: middle;\n",
       "    }\n",
       "\n",
       "    .dataframe tbody tr th {\n",
       "        vertical-align: top;\n",
       "    }\n",
       "\n",
       "    .dataframe thead th {\n",
       "        text-align: right;\n",
       "    }\n",
       "</style>\n",
       "<table border=\"1\" class=\"dataframe\">\n",
       "  <thead>\n",
       "    <tr style=\"text-align: right;\">\n",
       "      <th></th>\n",
       "      <th>longitude (degrees_east)</th>\n",
       "      <th>latitude (degrees_north)</th>\n",
       "      <th>Precipitation (mm/hr)</th>\n",
       "    </tr>\n",
       "  </thead>\n",
       "  <tbody>\n",
       "    <tr>\n",
       "      <th>0</th>\n",
       "      <td>-179.949997</td>\n",
       "      <td>-89.949997</td>\n",
       "      <td>-9999.900391</td>\n",
       "    </tr>\n",
       "    <tr>\n",
       "      <th>1</th>\n",
       "      <td>-179.949997</td>\n",
       "      <td>-89.849998</td>\n",
       "      <td>-9999.900391</td>\n",
       "    </tr>\n",
       "    <tr>\n",
       "      <th>2</th>\n",
       "      <td>-179.949997</td>\n",
       "      <td>-89.750000</td>\n",
       "      <td>-9999.900391</td>\n",
       "    </tr>\n",
       "    <tr>\n",
       "      <th>3</th>\n",
       "      <td>-179.949997</td>\n",
       "      <td>-89.650002</td>\n",
       "      <td>-9999.900391</td>\n",
       "    </tr>\n",
       "    <tr>\n",
       "      <th>4</th>\n",
       "      <td>-179.949997</td>\n",
       "      <td>-89.550003</td>\n",
       "      <td>-9999.900391</td>\n",
       "    </tr>\n",
       "  </tbody>\n",
       "</table>\n",
       "</div>"
      ],
      "text/plain": [
       "   longitude (degrees_east)  latitude (degrees_north)  Precipitation (mm/hr)\n",
       "0               -179.949997                -89.949997           -9999.900391\n",
       "1               -179.949997                -89.849998           -9999.900391\n",
       "2               -179.949997                -89.750000           -9999.900391\n",
       "3               -179.949997                -89.650002           -9999.900391\n",
       "4               -179.949997                -89.550003           -9999.900391"
      ]
     },
     "execution_count": 12,
     "metadata": {},
     "output_type": "execute_result"
    }
   ],
   "source": [
    "longitude_values = np.repeat(list(grid['lon']), 1800)\n",
    "latitude_values = list(grid['lat'])*3600\n",
    "precipitation_values = np.array(list(grid['precipitationCal'])).flatten()\n",
    "\n",
    "dataset = pd.DataFrame({\"lon\": longitude_values, \"lat\": latitude_values, \"precipitation\": precipitation_values})\n",
    "dataset.columns = [grid['lon'].attrs['standard_name'].decode() + \" (\" + grid['lon'].attrs['units'].decode() + \")\",\n",
    "                   grid['lat'].attrs['standard_name'].decode() + \" (\" + grid['lat'].attrs['units'].decode() + \")\",\n",
    "                   \"Precipitation (\" + grid['precipitationCal'].attrs['units'].decode() + \")\",]\n",
    "dataset.head()"
   ]
  },
  {
   "cell_type": "code",
   "execution_count": 13,
   "metadata": {},
   "outputs": [
    {
     "data": {
      "text/plain": [
       "89.95"
      ]
     },
     "execution_count": 13,
     "metadata": {},
     "output_type": "execute_result"
    }
   ],
   "source": [
    "np.amax(dataset['latitude (degrees_north)'])"
   ]
  },
  {
   "cell_type": "code",
   "execution_count": 10,
   "metadata": {},
   "outputs": [],
   "source": [
    "dataset.to_csv('IMERG_20230906_0600Z.csv', index=False)"
   ]
  },
  {
   "cell_type": "code",
   "execution_count": 14,
   "metadata": {},
   "outputs": [
    {
     "name": "stdout",
     "output_type": "stream",
     "text": [
      "(14641, 3)\n"
     ]
    },
    {
     "data": {
      "text/html": [
       "<div>\n",
       "<style scoped>\n",
       "    .dataframe tbody tr th:only-of-type {\n",
       "        vertical-align: middle;\n",
       "    }\n",
       "\n",
       "    .dataframe tbody tr th {\n",
       "        vertical-align: top;\n",
       "    }\n",
       "\n",
       "    .dataframe thead th {\n",
       "        text-align: right;\n",
       "    }\n",
       "</style>\n",
       "<table border=\"1\" class=\"dataframe\">\n",
       "  <thead>\n",
       "    <tr style=\"text-align: right;\">\n",
       "      <th></th>\n",
       "      <th>longitude (degrees_east)</th>\n",
       "      <th>latitude (degrees_north)</th>\n",
       "      <th>Precipitation (mm/hr)</th>\n",
       "    </tr>\n",
       "  </thead>\n",
       "  <tbody>\n",
       "    <tr>\n",
       "      <th>2339175</th>\n",
       "      <td>-50.049999</td>\n",
       "      <td>7.55</td>\n",
       "      <td>1.588772</td>\n",
       "    </tr>\n",
       "    <tr>\n",
       "      <th>2339176</th>\n",
       "      <td>-50.049999</td>\n",
       "      <td>7.65</td>\n",
       "      <td>1.586356</td>\n",
       "    </tr>\n",
       "    <tr>\n",
       "      <th>2339177</th>\n",
       "      <td>-50.049999</td>\n",
       "      <td>7.75</td>\n",
       "      <td>0.938168</td>\n",
       "    </tr>\n",
       "    <tr>\n",
       "      <th>2339178</th>\n",
       "      <td>-50.049999</td>\n",
       "      <td>7.85</td>\n",
       "      <td>0.000000</td>\n",
       "    </tr>\n",
       "    <tr>\n",
       "      <th>2339179</th>\n",
       "      <td>-50.049999</td>\n",
       "      <td>7.95</td>\n",
       "      <td>0.000000</td>\n",
       "    </tr>\n",
       "  </tbody>\n",
       "</table>\n",
       "</div>"
      ],
      "text/plain": [
       "         longitude (degrees_east)  latitude (degrees_north)   \n",
       "2339175                -50.049999                      7.55  \\\n",
       "2339176                -50.049999                      7.65   \n",
       "2339177                -50.049999                      7.75   \n",
       "2339178                -50.049999                      7.85   \n",
       "2339179                -50.049999                      7.95   \n",
       "\n",
       "         Precipitation (mm/hr)  \n",
       "2339175               1.588772  \n",
       "2339176               1.586356  \n",
       "2339177               0.938168  \n",
       "2339178               0.000000  \n",
       "2339179               0.000000  "
      ]
     },
     "execution_count": 14,
     "metadata": {},
     "output_type": "execute_result"
    }
   ],
   "source": [
    "dataset = dataset[dataset['longitude (degrees_east)'] <= -38.0]\n",
    "dataset = dataset[dataset['longitude (degrees_east)'] >= -50.1]\n",
    "dataset = dataset[dataset['latitude (degrees_north)'] <= 19.6]\n",
    "dataset = dataset[dataset['latitude (degrees_north)'] >= 7.5]\n",
    "print(dataset.shape)\n",
    "dataset.head()"
   ]
  },
  {
   "cell_type": "code",
   "execution_count": 15,
   "metadata": {},
   "outputs": [],
   "source": [
    "image = dataset.pivot(index='latitude (degrees_north)', columns='longitude (degrees_east)', values='Precipitation (mm/hr)')\n",
    "image = image.T"
   ]
  },
  {
   "cell_type": "code",
   "execution_count": 16,
   "metadata": {},
   "outputs": [
    {
     "data": {
      "text/html": [
       "<div>\n",
       "<style scoped>\n",
       "    .dataframe tbody tr th:only-of-type {\n",
       "        vertical-align: middle;\n",
       "    }\n",
       "\n",
       "    .dataframe tbody tr th {\n",
       "        vertical-align: top;\n",
       "    }\n",
       "\n",
       "    .dataframe thead th {\n",
       "        text-align: right;\n",
       "    }\n",
       "</style>\n",
       "<table border=\"1\" class=\"dataframe\">\n",
       "  <thead>\n",
       "    <tr style=\"text-align: right;\">\n",
       "      <th>latitude (degrees_north)</th>\n",
       "      <th>7.550000</th>\n",
       "      <th>7.650000</th>\n",
       "      <th>7.750000</th>\n",
       "      <th>7.850000</th>\n",
       "      <th>7.950000</th>\n",
       "      <th>8.050000</th>\n",
       "      <th>8.150000</th>\n",
       "      <th>8.250000</th>\n",
       "      <th>8.350000</th>\n",
       "      <th>8.450000</th>\n",
       "      <th>...</th>\n",
       "      <th>18.650000</th>\n",
       "      <th>18.750000</th>\n",
       "      <th>18.850000</th>\n",
       "      <th>18.950001</th>\n",
       "      <th>19.049999</th>\n",
       "      <th>19.150000</th>\n",
       "      <th>19.250000</th>\n",
       "      <th>19.350000</th>\n",
       "      <th>19.450001</th>\n",
       "      <th>19.549999</th>\n",
       "    </tr>\n",
       "    <tr>\n",
       "      <th>longitude (degrees_east)</th>\n",
       "      <th></th>\n",
       "      <th></th>\n",
       "      <th></th>\n",
       "      <th></th>\n",
       "      <th></th>\n",
       "      <th></th>\n",
       "      <th></th>\n",
       "      <th></th>\n",
       "      <th></th>\n",
       "      <th></th>\n",
       "      <th></th>\n",
       "      <th></th>\n",
       "      <th></th>\n",
       "      <th></th>\n",
       "      <th></th>\n",
       "      <th></th>\n",
       "      <th></th>\n",
       "      <th></th>\n",
       "      <th></th>\n",
       "      <th></th>\n",
       "      <th></th>\n",
       "    </tr>\n",
       "  </thead>\n",
       "  <tbody>\n",
       "    <tr>\n",
       "      <th>-50.049999</th>\n",
       "      <td>1.588772</td>\n",
       "      <td>1.586356</td>\n",
       "      <td>0.938168</td>\n",
       "      <td>0.0</td>\n",
       "      <td>0.0</td>\n",
       "      <td>0.0</td>\n",
       "      <td>0.0</td>\n",
       "      <td>0.0</td>\n",
       "      <td>0.0</td>\n",
       "      <td>0.0</td>\n",
       "      <td>...</td>\n",
       "      <td>0.0</td>\n",
       "      <td>0.0</td>\n",
       "      <td>0.0</td>\n",
       "      <td>0.0</td>\n",
       "      <td>0.0</td>\n",
       "      <td>0.0</td>\n",
       "      <td>0.0</td>\n",
       "      <td>0.0</td>\n",
       "      <td>0.0</td>\n",
       "      <td>0.0</td>\n",
       "    </tr>\n",
       "    <tr>\n",
       "      <th>-49.950001</th>\n",
       "      <td>1.612569</td>\n",
       "      <td>0.943854</td>\n",
       "      <td>0.943854</td>\n",
       "      <td>0.0</td>\n",
       "      <td>0.0</td>\n",
       "      <td>0.0</td>\n",
       "      <td>0.0</td>\n",
       "      <td>0.0</td>\n",
       "      <td>0.0</td>\n",
       "      <td>0.0</td>\n",
       "      <td>...</td>\n",
       "      <td>0.0</td>\n",
       "      <td>0.0</td>\n",
       "      <td>0.0</td>\n",
       "      <td>0.0</td>\n",
       "      <td>0.0</td>\n",
       "      <td>0.0</td>\n",
       "      <td>0.0</td>\n",
       "      <td>0.0</td>\n",
       "      <td>0.0</td>\n",
       "      <td>0.0</td>\n",
       "    </tr>\n",
       "    <tr>\n",
       "      <th>-49.849998</th>\n",
       "      <td>1.168363</td>\n",
       "      <td>0.790335</td>\n",
       "      <td>0.790335</td>\n",
       "      <td>0.0</td>\n",
       "      <td>0.0</td>\n",
       "      <td>0.0</td>\n",
       "      <td>0.0</td>\n",
       "      <td>0.0</td>\n",
       "      <td>0.0</td>\n",
       "      <td>0.0</td>\n",
       "      <td>...</td>\n",
       "      <td>0.0</td>\n",
       "      <td>0.0</td>\n",
       "      <td>0.0</td>\n",
       "      <td>0.0</td>\n",
       "      <td>0.0</td>\n",
       "      <td>0.0</td>\n",
       "      <td>0.0</td>\n",
       "      <td>0.0</td>\n",
       "      <td>0.0</td>\n",
       "      <td>0.0</td>\n",
       "    </tr>\n",
       "    <tr>\n",
       "      <th>-49.750000</th>\n",
       "      <td>1.171288</td>\n",
       "      <td>0.790335</td>\n",
       "      <td>0.790335</td>\n",
       "      <td>0.0</td>\n",
       "      <td>0.0</td>\n",
       "      <td>0.0</td>\n",
       "      <td>0.0</td>\n",
       "      <td>0.0</td>\n",
       "      <td>0.0</td>\n",
       "      <td>0.0</td>\n",
       "      <td>...</td>\n",
       "      <td>0.0</td>\n",
       "      <td>0.0</td>\n",
       "      <td>0.0</td>\n",
       "      <td>0.0</td>\n",
       "      <td>0.0</td>\n",
       "      <td>0.0</td>\n",
       "      <td>0.0</td>\n",
       "      <td>0.0</td>\n",
       "      <td>0.0</td>\n",
       "      <td>0.0</td>\n",
       "    </tr>\n",
       "    <tr>\n",
       "      <th>-49.650002</th>\n",
       "      <td>1.199208</td>\n",
       "      <td>0.000000</td>\n",
       "      <td>0.000000</td>\n",
       "      <td>0.0</td>\n",
       "      <td>0.0</td>\n",
       "      <td>0.0</td>\n",
       "      <td>0.0</td>\n",
       "      <td>0.0</td>\n",
       "      <td>0.0</td>\n",
       "      <td>0.0</td>\n",
       "      <td>...</td>\n",
       "      <td>0.0</td>\n",
       "      <td>0.0</td>\n",
       "      <td>0.0</td>\n",
       "      <td>0.0</td>\n",
       "      <td>0.0</td>\n",
       "      <td>0.0</td>\n",
       "      <td>0.0</td>\n",
       "      <td>0.0</td>\n",
       "      <td>0.0</td>\n",
       "      <td>0.0</td>\n",
       "    </tr>\n",
       "  </tbody>\n",
       "</table>\n",
       "<p>5 rows × 121 columns</p>\n",
       "</div>"
      ],
      "text/plain": [
       "latitude (degrees_north)  7.550000   7.650000   7.750000   7.850000    \n",
       "longitude (degrees_east)                                               \n",
       "-50.049999                 1.588772   1.586356   0.938168        0.0  \\\n",
       "-49.950001                 1.612569   0.943854   0.943854        0.0   \n",
       "-49.849998                 1.168363   0.790335   0.790335        0.0   \n",
       "-49.750000                 1.171288   0.790335   0.790335        0.0   \n",
       "-49.650002                 1.199208   0.000000   0.000000        0.0   \n",
       "\n",
       "latitude (degrees_north)  7.950000   8.050000   8.150000   8.250000    \n",
       "longitude (degrees_east)                                               \n",
       "-50.049999                      0.0        0.0        0.0        0.0  \\\n",
       "-49.950001                      0.0        0.0        0.0        0.0   \n",
       "-49.849998                      0.0        0.0        0.0        0.0   \n",
       "-49.750000                      0.0        0.0        0.0        0.0   \n",
       "-49.650002                      0.0        0.0        0.0        0.0   \n",
       "\n",
       "latitude (degrees_north)  8.350000   8.450000   ...  18.650000  18.750000   \n",
       "longitude (degrees_east)                        ...                         \n",
       "-50.049999                      0.0        0.0  ...        0.0        0.0  \\\n",
       "-49.950001                      0.0        0.0  ...        0.0        0.0   \n",
       "-49.849998                      0.0        0.0  ...        0.0        0.0   \n",
       "-49.750000                      0.0        0.0  ...        0.0        0.0   \n",
       "-49.650002                      0.0        0.0  ...        0.0        0.0   \n",
       "\n",
       "latitude (degrees_north)  18.850000  18.950001  19.049999  19.150000   \n",
       "longitude (degrees_east)                                               \n",
       "-50.049999                      0.0        0.0        0.0        0.0  \\\n",
       "-49.950001                      0.0        0.0        0.0        0.0   \n",
       "-49.849998                      0.0        0.0        0.0        0.0   \n",
       "-49.750000                      0.0        0.0        0.0        0.0   \n",
       "-49.650002                      0.0        0.0        0.0        0.0   \n",
       "\n",
       "latitude (degrees_north)  19.250000  19.350000  19.450001  19.549999  \n",
       "longitude (degrees_east)                                              \n",
       "-50.049999                      0.0        0.0        0.0        0.0  \n",
       "-49.950001                      0.0        0.0        0.0        0.0  \n",
       "-49.849998                      0.0        0.0        0.0        0.0  \n",
       "-49.750000                      0.0        0.0        0.0        0.0  \n",
       "-49.650002                      0.0        0.0        0.0        0.0  \n",
       "\n",
       "[5 rows x 121 columns]"
      ]
     },
     "execution_count": 16,
     "metadata": {},
     "output_type": "execute_result"
    }
   ],
   "source": [
    "image = image.iloc[:, :]\n",
    "image.head()"
   ]
  },
  {
   "cell_type": "code",
   "execution_count": 107,
   "metadata": {},
   "outputs": [],
   "source": [
    "image.to_csv('ATL_202313_TS_2023090606.csv', index=False, header = False)"
   ]
  },
  {
   "cell_type": "code",
   "execution_count": null,
   "metadata": {},
   "outputs": [],
   "source": []
  }
 ],
 "metadata": {
  "kernelspec": {
   "display_name": "Python 3",
   "language": "python",
   "name": "python3"
  },
  "language_info": {
   "codemirror_mode": {
    "name": "ipython",
    "version": 3
   },
   "file_extension": ".py",
   "mimetype": "text/x-python",
   "name": "python",
   "nbconvert_exporter": "python",
   "pygments_lexer": "ipython3",
   "version": "3.11.3"
  },
  "orig_nbformat": 4
 },
 "nbformat": 4,
 "nbformat_minor": 2
}
