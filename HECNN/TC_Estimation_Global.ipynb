{
 "cells": [
  {
   "cell_type": "code",
   "execution_count": 3,
   "metadata": {},
   "outputs": [],
   "source": [
    "import pandas as pd\n",
    "import numpy as np\n",
    "import os\n",
    "import tensorflow as tf\n",
    "from tensorflow import keras\n",
    "os.chdir('IMERG')"
   ]
  },
  {
   "cell_type": "code",
   "execution_count": 7,
   "metadata": {},
   "outputs": [
    {
     "name": "stdout",
     "output_type": "stream",
     "text": [
      "58112\n"
     ]
    },
    {
     "data": {
      "text/html": [
       "<div>\n",
       "<style scoped>\n",
       "    .dataframe tbody tr th:only-of-type {\n",
       "        vertical-align: middle;\n",
       "    }\n",
       "\n",
       "    .dataframe tbody tr th {\n",
       "        vertical-align: top;\n",
       "    }\n",
       "\n",
       "    .dataframe thead th {\n",
       "        text-align: right;\n",
       "    }\n",
       "</style>\n",
       "<table border=\"1\" class=\"dataframe\">\n",
       "  <thead>\n",
       "    <tr style=\"text-align: right;\">\n",
       "      <th></th>\n",
       "      <th>GIS_ID</th>\n",
       "      <th>VMAX</th>\n",
       "      <th>VMAX_N06</th>\n",
       "      <th>VMAX_N12</th>\n",
       "    </tr>\n",
       "  </thead>\n",
       "  <tbody>\n",
       "    <tr>\n",
       "      <th>0</th>\n",
       "      <td>ATL_200001_TD_2000060806</td>\n",
       "      <td>25</td>\n",
       "      <td>25</td>\n",
       "      <td>25</td>\n",
       "    </tr>\n",
       "    <tr>\n",
       "      <th>1</th>\n",
       "      <td>ATL_200001_TD_2000060812</td>\n",
       "      <td>25</td>\n",
       "      <td>25</td>\n",
       "      <td>25</td>\n",
       "    </tr>\n",
       "    <tr>\n",
       "      <th>2</th>\n",
       "      <td>ATL_200002_TD_2000062312</td>\n",
       "      <td>30</td>\n",
       "      <td>30</td>\n",
       "      <td>25</td>\n",
       "    </tr>\n",
       "    <tr>\n",
       "      <th>3</th>\n",
       "      <td>ATL_200002_TD_2000062318</td>\n",
       "      <td>30</td>\n",
       "      <td>30</td>\n",
       "      <td>30</td>\n",
       "    </tr>\n",
       "    <tr>\n",
       "      <th>4</th>\n",
       "      <td>ATL_200002_TD_2000062400</td>\n",
       "      <td>30</td>\n",
       "      <td>30</td>\n",
       "      <td>30</td>\n",
       "    </tr>\n",
       "  </tbody>\n",
       "</table>\n",
       "</div>"
      ],
      "text/plain": [
       "                     GIS_ID  VMAX  VMAX_N06  VMAX_N12\n",
       "0  ATL_200001_TD_2000060806    25        25        25\n",
       "1  ATL_200001_TD_2000060812    25        25        25\n",
       "2  ATL_200002_TD_2000062312    30        30        25\n",
       "3  ATL_200002_TD_2000062318    30        30        30\n",
       "4  ATL_200002_TD_2000062400    30        30        30"
      ]
     },
     "execution_count": 7,
     "metadata": {},
     "output_type": "execute_result"
    }
   ],
   "source": [
    "train = pd.read_csv(\"ALL_TRAIN_DATA_RESAMPLE.csv\")\n",
    "train = train[[\"GIS_ID\", \"VMAX\", \"VMAX_N06\", \"VMAX_N12\"]]\n",
    "print(len(train.GIS_ID))\n",
    "train.head()"
   ]
  },
  {
   "cell_type": "code",
   "execution_count": 8,
   "metadata": {},
   "outputs": [
    {
     "name": "stdout",
     "output_type": "stream",
     "text": [
      "4312\n"
     ]
    },
    {
     "data": {
      "text/html": [
       "<div>\n",
       "<style scoped>\n",
       "    .dataframe tbody tr th:only-of-type {\n",
       "        vertical-align: middle;\n",
       "    }\n",
       "\n",
       "    .dataframe tbody tr th {\n",
       "        vertical-align: top;\n",
       "    }\n",
       "\n",
       "    .dataframe thead th {\n",
       "        text-align: right;\n",
       "    }\n",
       "</style>\n",
       "<table border=\"1\" class=\"dataframe\">\n",
       "  <thead>\n",
       "    <tr style=\"text-align: right;\">\n",
       "      <th></th>\n",
       "      <th>GIS_ID</th>\n",
       "      <th>VMAX</th>\n",
       "      <th>VMAX_N06</th>\n",
       "      <th>VMAX_N12</th>\n",
       "    </tr>\n",
       "  </thead>\n",
       "  <tbody>\n",
       "    <tr>\n",
       "      <th>0</th>\n",
       "      <td>ATL_201801_TS_2018052812</td>\n",
       "      <td>50</td>\n",
       "      <td>55</td>\n",
       "      <td>55</td>\n",
       "    </tr>\n",
       "    <tr>\n",
       "      <th>1</th>\n",
       "      <td>ATL_201801_TS_2018052818</td>\n",
       "      <td>45</td>\n",
       "      <td>50</td>\n",
       "      <td>55</td>\n",
       "    </tr>\n",
       "    <tr>\n",
       "      <th>2</th>\n",
       "      <td>ATL_201801_TD_2018052900</td>\n",
       "      <td>30</td>\n",
       "      <td>45</td>\n",
       "      <td>50</td>\n",
       "    </tr>\n",
       "    <tr>\n",
       "      <th>3</th>\n",
       "      <td>ATL_201801_TD_2018052906</td>\n",
       "      <td>30</td>\n",
       "      <td>30</td>\n",
       "      <td>45</td>\n",
       "    </tr>\n",
       "    <tr>\n",
       "      <th>4</th>\n",
       "      <td>ATL_201801_TD_2018052912</td>\n",
       "      <td>30</td>\n",
       "      <td>30</td>\n",
       "      <td>30</td>\n",
       "    </tr>\n",
       "  </tbody>\n",
       "</table>\n",
       "</div>"
      ],
      "text/plain": [
       "                     GIS_ID  VMAX  VMAX_N06  VMAX_N12\n",
       "0  ATL_201801_TS_2018052812    50        55        55\n",
       "1  ATL_201801_TS_2018052818    45        50        55\n",
       "2  ATL_201801_TD_2018052900    30        45        50\n",
       "3  ATL_201801_TD_2018052906    30        30        45\n",
       "4  ATL_201801_TD_2018052912    30        30        30"
      ]
     },
     "execution_count": 8,
     "metadata": {},
     "output_type": "execute_result"
    }
   ],
   "source": [
    "test = pd.read_csv(\"ALL_TEST_DATA.csv\")\n",
    "test = test[[\"GIS_ID\", \"VMAX\", \"VMAX_N06\", \"VMAX_N12\"]]\n",
    "print(len(test.GIS_ID))\n",
    "test.head()"
   ]
  },
  {
   "cell_type": "code",
   "execution_count": 9,
   "metadata": {},
   "outputs": [
    {
     "name": "stdout",
     "output_type": "stream",
     "text": [
      "        0         1         2         3         4         5    6         7    \\\n",
      "0  0.000000  0.000000  0.000000  0.000000  0.000000  0.000000  0.0  0.000000   \n",
      "1  0.000000  0.000000  0.000000  0.000000  0.000000  0.000000  0.0  0.000000   \n",
      "2  0.000000  0.000000  0.002614  0.035389  0.031253  0.003356  0.0  0.000000   \n",
      "3  0.053374  0.086443  0.075739  0.183154  0.187500  0.022317  0.0  0.046795   \n",
      "4  0.312158  0.434224  0.340077  0.413843  0.241398  0.028628  0.0  0.202615   \n",
      "\n",
      "        8         9    ...       111       112       113  114  115  116  117  \\\n",
      "0  0.000000  0.000000  ...  0.327364  0.000000  0.000000  0.0  0.0  0.0  0.0   \n",
      "1  0.000000  0.000000  ...  0.000000  0.000000  0.022034  0.0  0.0  0.0  0.0   \n",
      "2  0.000000  0.000000  ...  0.000000  0.000000  0.022034  0.0  0.0  0.0  0.0   \n",
      "3  0.354221  0.840079  ...  0.000000  0.295887  0.192012  0.0  0.0  0.0  0.0   \n",
      "4  1.544581  4.629189  ...  0.100727  0.147943  0.047216  0.0  0.0  0.0  0.0   \n",
      "\n",
      "   118  119  120  \n",
      "0  0.0  0.0  0.0  \n",
      "1  0.0  0.0  0.0  \n",
      "2  0.0  0.0  0.0  \n",
      "3  0.0  0.0  0.0  \n",
      "4  0.0  0.0  0.0  \n",
      "\n",
      "[5 rows x 121 columns]\n",
      "[25 25]\n"
     ]
    }
   ],
   "source": [
    "a = pd.read_csv(\"IMERG_CSV/\" + train.GIS_ID[0] + '.csv', header = None)\n",
    "print(a.head())\n",
    "pvmax = np.array([train.VMAX_N06[0], train.VMAX_N12[0]])\n",
    "print(pvmax)"
   ]
  },
  {
   "cell_type": "code",
   "execution_count": 10,
   "metadata": {},
   "outputs": [],
   "source": [
    "train_img = []\n",
    "train_vmax = []\n",
    "train_label = []\n",
    "test_img = []\n",
    "test_vmax = []\n",
    "test_label = []\n",
    "for f in range(len(train.GIS_ID)) :\n",
    "    filename = f\"IMERG_CSV/{train.GIS_ID[f]}.csv\"\n",
    "    try:\n",
    "        temp = pd.read_csv(filename, header = None)\n",
    "        if (temp.shape != (121,121)):\n",
    "            continue\n",
    "        temp = temp[30:91]\n",
    "        temp = temp.iloc[:, 30:91]\n",
    "        temp = np.array(temp)\n",
    "        train_img.append(temp)\n",
    "        lab = train.VMAX[f]\n",
    "        train_label.append(lab)\n",
    "        pvmax = np.array([train.VMAX_N06[f], train.VMAX_N12[f]])\n",
    "        train_vmax.append(pvmax)\n",
    "    except Exception as e:\n",
    "        pass\n",
    "\n",
    "for f in range(len(test.GIS_ID)) :\n",
    "    filename = f\"IMERG_CSV/{test.GIS_ID[f]}.csv\"\n",
    "    try:\n",
    "        temp = pd.read_csv(filename, header = None)\n",
    "        if (temp.shape != (121,121)):\n",
    "            continue\n",
    "        temp = temp[30:91]\n",
    "        temp = temp.iloc[:, 30:91]\n",
    "        temp = np.array(temp)\n",
    "        test_img.append(temp)\n",
    "        lab = test.VMAX[f]\n",
    "        test_label.append(lab)\n",
    "        pvmax = np.array([test.VMAX_N06[f], test.VMAX_N12[f]])\n",
    "        test_vmax.append(pvmax)\n",
    "    except Exception as e:\n",
    "        pass"
   ]
  },
  {
   "cell_type": "code",
   "execution_count": 11,
   "metadata": {},
   "outputs": [
    {
     "name": "stdout",
     "output_type": "stream",
     "text": [
      "58112\n",
      "58112\n",
      "58112\n",
      "4312\n",
      "4312\n",
      "4312\n"
     ]
    }
   ],
   "source": [
    "print(len(train_img))\n",
    "print(len(train_vmax))\n",
    "print(len(train_label))\n",
    "print(len(test_img))\n",
    "print(len(test_vmax))\n",
    "print(len(test_label))"
   ]
  },
  {
   "cell_type": "code",
   "execution_count": 13,
   "metadata": {},
   "outputs": [],
   "source": [
    "X_train_img = train_img\n",
    "X_train_vmax = train_vmax\n",
    "y_train = train_label\n",
    "X_test_img = test_img\n",
    "X_test_vmax = test_vmax\n",
    "y_test = test_label"
   ]
  },
  {
   "cell_type": "code",
   "execution_count": 14,
   "metadata": {},
   "outputs": [],
   "source": [
    "X_train_img = np.array(X_train_img)\n",
    "X_train_img = X_train_img.reshape(-1,61,61,1)\n",
    "X_train_img = X_train_img.astype('float32')\n",
    "X_train_vmax = np.array(X_train_vmax)\n",
    "X_train_vmax = X_train_vmax.reshape(-1,2)\n",
    "y_train = np.array(y_train)"
   ]
  },
  {
   "cell_type": "code",
   "execution_count": 15,
   "metadata": {},
   "outputs": [],
   "source": [
    "X_test_img = np.array(X_test_img)\n",
    "X_test_img = X_test_img.reshape(-1,61,61,1)\n",
    "X_test_img = X_test_img.astype('float32')\n",
    "X_test_vmax = np.array(X_test_vmax)\n",
    "X_test_vmax = X_test_vmax.reshape(-1,2)\n",
    "y_test = np.array(y_test)"
   ]
  },
  {
   "cell_type": "code",
   "execution_count": 16,
   "metadata": {},
   "outputs": [
    {
     "name": "stderr",
     "output_type": "stream",
     "text": [
      "2023-09-05 15:40:58.289098: I metal_plugin/src/device/metal_device.cc:1154] Metal device set to: Apple M2 Max\n",
      "2023-09-05 15:40:58.289118: I metal_plugin/src/device/metal_device.cc:296] systemMemory: 64.00 GB\n",
      "2023-09-05 15:40:58.289123: I metal_plugin/src/device/metal_device.cc:313] maxCacheSize: 24.00 GB\n",
      "2023-09-05 15:40:58.289154: I tensorflow/core/common_runtime/pluggable_device/pluggable_device_factory.cc:303] Could not identify NUMA node of platform GPU ID 0, defaulting to 0. Your kernel may not have been built with NUMA support.\n",
      "2023-09-05 15:40:58.289167: I tensorflow/core/common_runtime/pluggable_device/pluggable_device_factory.cc:269] Created TensorFlow device (/job:localhost/replica:0/task:0/device:GPU:0 with 0 MB memory) -> physical PluggableDevice (device: 0, name: METAL, pci bus id: <undefined>)\n"
     ]
    },
    {
     "name": "stdout",
     "output_type": "stream",
     "text": [
      "Model: \"model_1\"\n",
      "__________________________________________________________________________________________________\n",
      " Layer (type)                Output Shape                 Param #   Connected to                  \n",
      "==================================================================================================\n",
      " img_layer (InputLayer)      [(None, 61, 61, 1)]          0         []                            \n",
      "                                                                                                  \n",
      " conv2d (Conv2D)             (None, 50, 50, 64)           9280      ['img_layer[0][0]']           \n",
      "                                                                                                  \n",
      " conv2d_1 (Conv2D)           (None, 39, 39, 64)           589888    ['conv2d[0][0]']              \n",
      "                                                                                                  \n",
      " conv2d_2 (Conv2D)           (None, 38, 38, 64)           16448     ['conv2d_1[0][0]']            \n",
      "                                                                                                  \n",
      " batch_normalization (Batch  (None, 38, 38, 64)           256       ['conv2d_2[0][0]']            \n",
      " Normalization)                                                                                   \n",
      "                                                                                                  \n",
      " max_pooling2d (MaxPooling2  (None, 19, 19, 64)           0         ['batch_normalization[0][0]'] \n",
      " D)                                                                                               \n",
      "                                                                                                  \n",
      " conv2d_3 (Conv2D)           (None, 11, 11, 64)           331840    ['max_pooling2d[0][0]']       \n",
      "                                                                                                  \n",
      " conv2d_4 (Conv2D)           (None, 3, 3, 64)             331840    ['conv2d_3[0][0]']            \n",
      "                                                                                                  \n",
      " conv2d_5 (Conv2D)           (None, 2, 2, 256)            65792     ['conv2d_4[0][0]']            \n",
      "                                                                                                  \n",
      " batch_normalization_1 (Bat  (None, 2, 2, 256)            1024      ['conv2d_5[0][0]']            \n",
      " chNormalization)                                                                                 \n",
      "                                                                                                  \n",
      " flatten (Flatten)           (None, 1024)                 0         ['batch_normalization_1[0][0]'\n",
      "                                                                    ]                             \n",
      "                                                                                                  \n",
      " vmax_layer (InputLayer)     [(None, 2)]                  0         []                            \n",
      "                                                                                                  \n",
      " concatenate (Concatenate)   (None, 1026)                 0         ['flatten[0][0]',             \n",
      "                                                                     'vmax_layer[0][0]']          \n",
      "                                                                                                  \n",
      " dense (Dense)               (None, 256)                  262912    ['concatenate[0][0]']         \n",
      "                                                                                                  \n",
      " dense_1 (Dense)             (None, 170)                  43690     ['dense[0][0]']               \n",
      "                                                                                                  \n",
      "==================================================================================================\n",
      "Total params: 1652970 (6.31 MB)\n",
      "Trainable params: 1652330 (6.30 MB)\n",
      "Non-trainable params: 640 (2.50 KB)\n",
      "__________________________________________________________________________________________________\n",
      "Model: \"model_2\"\n",
      "__________________________________________________________________________________________________\n",
      " Layer (type)                Output Shape                 Param #   Connected to                  \n",
      "==================================================================================================\n",
      " img_layer (InputLayer)      [(None, 61, 61, 1)]          0         []                            \n",
      "                                                                                                  \n",
      " conv2d_6 (Conv2D)           (None, 50, 50, 256)          37120     ['img_layer[0][0]']           \n",
      "                                                                                                  \n",
      " batch_normalization_2 (Bat  (None, 50, 50, 256)          1024      ['conv2d_6[0][0]']            \n",
      " chNormalization)                                                                                 \n",
      "                                                                                                  \n",
      " max_pooling2d_1 (MaxPoolin  (None, 25, 25, 256)          0         ['batch_normalization_2[0][0]'\n",
      " g2D)                                                               ]                             \n",
      "                                                                                                  \n",
      " conv2d_7 (Conv2D)           (None, 24, 24, 128)          131200    ['max_pooling2d_1[0][0]']     \n",
      "                                                                                                  \n",
      " conv2d_8 (Conv2D)           (None, 18, 18, 128)          802944    ['conv2d_7[0][0]']            \n",
      "                                                                                                  \n",
      " batch_normalization_3 (Bat  (None, 18, 18, 128)          512       ['conv2d_8[0][0]']            \n",
      " chNormalization)                                                                                 \n",
      "                                                                                                  \n",
      " max_pooling2d_2 (MaxPoolin  (None, 9, 9, 128)            0         ['batch_normalization_3[0][0]'\n",
      " g2D)                                                               ]                             \n",
      "                                                                                                  \n",
      " conv2d_9 (Conv2D)           (None, 8, 8, 64)             32832     ['max_pooling2d_2[0][0]']     \n",
      "                                                                                                  \n",
      " conv2d_10 (Conv2D)          (None, 5, 5, 64)             65600     ['conv2d_9[0][0]']            \n",
      "                                                                                                  \n",
      " batch_normalization_4 (Bat  (None, 5, 5, 64)             256       ['conv2d_10[0][0]']           \n",
      " chNormalization)                                                                                 \n",
      "                                                                                                  \n",
      " max_pooling2d_3 (MaxPoolin  (None, 2, 2, 64)             0         ['batch_normalization_4[0][0]'\n",
      " g2D)                                                               ]                             \n",
      "                                                                                                  \n",
      " flatten_1 (Flatten)         (None, 256)                  0         ['max_pooling2d_3[0][0]']     \n",
      "                                                                                                  \n",
      " vmax_layer (InputLayer)     [(None, 2)]                  0         []                            \n",
      "                                                                                                  \n",
      " concatenate_1 (Concatenate  (None, 258)                  0         ['flatten_1[0][0]',           \n",
      " )                                                                   'vmax_layer[0][0]']          \n",
      "                                                                                                  \n",
      " dense_2 (Dense)             (None, 170)                  44030     ['concatenate_1[0][0]']       \n",
      "                                                                                                  \n",
      "==================================================================================================\n",
      "Total params: 1115518 (4.26 MB)\n",
      "Trainable params: 1114622 (4.25 MB)\n",
      "Non-trainable params: 896 (3.50 KB)\n",
      "__________________________________________________________________________________________________\n",
      "Model: \"model_3\"\n",
      "__________________________________________________________________________________________________\n",
      " Layer (type)                Output Shape                 Param #   Connected to                  \n",
      "==================================================================================================\n",
      " img_layer (InputLayer)      [(None, 61, 61, 1)]          0         []                            \n",
      "                                                                                                  \n",
      " conv2d_11 (Conv2D)          (None, 52, 58, 256)          10496     ['img_layer[0][0]']           \n",
      "                                                                                                  \n",
      " conv2d_12 (Conv2D)          (None, 49, 49, 256)          2621696   ['conv2d_11[0][0]']           \n",
      "                                                                                                  \n",
      " batch_normalization_5 (Bat  (None, 49, 49, 256)          1024      ['conv2d_12[0][0]']           \n",
      " chNormalization)                                                                                 \n",
      "                                                                                                  \n",
      " max_pooling2d_4 (MaxPoolin  (None, 24, 24, 256)          0         ['batch_normalization_5[0][0]'\n",
      " g2D)                                                               ]                             \n",
      "                                                                                                  \n",
      " conv2d_13 (Conv2D)          (None, 19, 19, 128)          1179776   ['max_pooling2d_4[0][0]']     \n",
      "                                                                                                  \n",
      " batch_normalization_6 (Bat  (None, 19, 19, 128)          512       ['conv2d_13[0][0]']           \n",
      " chNormalization)                                                                                 \n",
      "                                                                                                  \n",
      " max_pooling2d_5 (MaxPoolin  (None, 9, 9, 128)            0         ['batch_normalization_6[0][0]'\n",
      " g2D)                                                               ]                             \n",
      "                                                                                                  \n",
      " conv2d_14 (Conv2D)          (None, 6, 6, 64)             131136    ['max_pooling2d_5[0][0]']     \n",
      "                                                                                                  \n",
      " batch_normalization_7 (Bat  (None, 6, 6, 64)             256       ['conv2d_14[0][0]']           \n",
      " chNormalization)                                                                                 \n",
      "                                                                                                  \n",
      " max_pooling2d_6 (MaxPoolin  (None, 3, 3, 64)             0         ['batch_normalization_7[0][0]'\n",
      " g2D)                                                               ]                             \n",
      "                                                                                                  \n",
      " flatten_2 (Flatten)         (None, 576)                  0         ['max_pooling2d_6[0][0]']     \n",
      "                                                                                                  \n",
      " vmax_layer (InputLayer)     [(None, 2)]                  0         []                            \n",
      "                                                                                                  \n",
      " concatenate_2 (Concatenate  (None, 578)                  0         ['flatten_2[0][0]',           \n",
      " )                                                                   'vmax_layer[0][0]']          \n",
      "                                                                                                  \n",
      " dense_3 (Dense)             (None, 170)                  98430     ['concatenate_2[0][0]']       \n",
      "                                                                                                  \n",
      "==================================================================================================\n",
      "Total params: 4043326 (15.42 MB)\n",
      "Trainable params: 4042430 (15.42 MB)\n",
      "Non-trainable params: 896 (3.50 KB)\n",
      "__________________________________________________________________________________________________\n"
     ]
    }
   ],
   "source": [
    "# 300km\n",
    "vmax_input = keras.Input(shape =(2,), name = \"vmax_layer\")\n",
    "img_input = keras.Input(shape =(61, 61, 1), name = \"img_layer\")\n",
    "\n",
    "w = keras.layers.Conv2D(64,12) (img_input)\n",
    "w = keras.layers.Conv2D(64,12)(w)\n",
    "w = keras.layers.Conv2D(64,2)(w)\n",
    "w = keras.layers.BatchNormalization()(w)\n",
    "w = keras.activations.linear(w)\n",
    "w = keras.layers.MaxPool2D(2,2)(w)\n",
    "w = keras.layers.Conv2D(64, 9)(w)\n",
    "w = keras.layers.Conv2D(64, 9)(w)\n",
    "w = keras.layers.Conv2D(256,2)(w)\n",
    "w = keras.layers.BatchNormalization()(w)\n",
    "img_output1 = keras.layers.Flatten()(w)\n",
    "\n",
    "merged_model1 = keras.layers.concatenate([img_output1, vmax_input])\n",
    "output_layer1 = keras.layers.Dense(256)(merged_model1)\n",
    "output_layer1 = keras.layers.Dense(170, activation = 'linear')(output_layer1)\n",
    "\n",
    "new_model1 = keras.Model(inputs = [img_input, vmax_input], outputs = output_layer1, name = \"model_1\")\n",
    "\n",
    "new_model1.summary()\n",
    "\n",
    "x = keras.layers.Conv2D(256, 12) (img_input)\n",
    "x = keras.layers.BatchNormalization()(x)\n",
    "x = keras.activations.linear(x)\n",
    "x = keras.layers.MaxPool2D(2,2)(x)\n",
    "x = keras.layers.Conv2D(128,2, activation = 'linear')(x)\n",
    "x = keras.layers.Conv2D(128,7)(x)\n",
    "x = keras.layers.BatchNormalization()(x)\n",
    "x = keras.activations.linear(x)\n",
    "x = keras.layers.MaxPool2D(2,2)(x)\n",
    "x = keras.layers.Conv2D(64,2, activation = 'linear')(x)\n",
    "x = keras.layers.Conv2D(64,4)(x)\n",
    "x = keras.layers.BatchNormalization()(x)\n",
    "x = keras.activations.linear(x)\n",
    "x = keras.layers.MaxPool2D(2,2)(x)\n",
    "img_output2 = keras.layers.Flatten()(x)\n",
    "\n",
    "merged_model2 = keras.layers.concatenate([img_output2, vmax_input])\n",
    "output_layer2 = keras.layers.Dense(170, activation = 'linear')(merged_model2)\n",
    "\n",
    "new_model2 = keras.Model(inputs = [img_input, vmax_input], outputs = output_layer2, name = \"model_2\")\n",
    "\n",
    "new_model2.summary()\n",
    "\n",
    "y = keras.layers.Conv2D(256, (10,4))(img_input)\n",
    "y = keras.layers.Conv2D(256, (4,10))(y)\n",
    "y = keras.layers.BatchNormalization()(y)\n",
    "y = keras.activations.linear(y)\n",
    "y = keras.layers.MaxPool2D(2,2)(y)\n",
    "y = keras.layers.Conv2D(128,6)(y)\n",
    "y = keras.layers.BatchNormalization()(y)\n",
    "y = keras.activations.linear(y)\n",
    "y = keras.layers.MaxPool2D(2,2)(y)\n",
    "y = keras.layers.Conv2D(64,4)(y)\n",
    "y = keras.layers.BatchNormalization()(y)\n",
    "y = keras.activations.linear(y)\n",
    "y = keras.layers.MaxPool2D(2,2)(y)\n",
    "img_output3 = keras.layers.Flatten()(y)\n",
    "\n",
    "merged_model3 = keras.layers.concatenate([img_output3, vmax_input])\n",
    "output_layer3 = keras.layers.Dense(170, activation = 'linear')(merged_model3)\n",
    "\n",
    "new_model3 = keras.Model(inputs = [img_input, vmax_input], outputs = output_layer3, name = \"model_3\")\n",
    "\n",
    "new_model3.summary()\n",
    "\n",
    "# z = keras.layers.Conv2D(256, 10)(img_input)\n",
    "# z = keras.layers.MaxPool2D(2,2)(z)\n",
    "# img_output4 = keras.layers.Flatten()(z)\n",
    "\n",
    "# merged_model4 = keras.layers.concatenate([img_output4, vmax_input])\n",
    "# output_layer4 = keras.layers.Dense(1, activation = 'sigmoid')(merged_model4)\n",
    "\n",
    "# new_model4 = keras.Model(inputs = [img_input, vmax_input], outputs = output_layer4, name = \"model_4\")\n",
    "\n",
    "# new_model4.summary()"
   ]
  },
  {
   "cell_type": "code",
   "execution_count": 17,
   "metadata": {},
   "outputs": [
    {
     "name": "stdout",
     "output_type": "stream",
     "text": [
      "Epoch 1/10\n"
     ]
    },
    {
     "name": "stderr",
     "output_type": "stream",
     "text": [
      "2023-09-05 15:40:59.832895: I tensorflow/core/grappler/optimizers/custom_graph_optimizer_registry.cc:114] Plugin optimizer for device_type GPU is enabled.\n"
     ]
    },
    {
     "name": "stdout",
     "output_type": "stream",
     "text": [
      "58112/58112 [==============================] - 525s 9ms/step - loss: 4.9139 - mae: 4.9139 - mse: 51.6830\n",
      "Epoch 2/10\n",
      "58112/58112 [==============================] - 523s 9ms/step - loss: 4.5203 - mae: 4.5203 - mse: 43.1074\n",
      "Epoch 3/10\n",
      "58112/58112 [==============================] - 524s 9ms/step - loss: 4.4474 - mae: 4.4474 - mse: 42.0894\n",
      "Epoch 4/10\n",
      "58112/58112 [==============================] - 523s 9ms/step - loss: 4.4193 - mae: 4.4193 - mse: 41.6192\n",
      "Epoch 5/10\n",
      "58112/58112 [==============================] - 523s 9ms/step - loss: 4.3862 - mae: 4.3862 - mse: 41.3240\n",
      "Epoch 6/10\n",
      "58112/58112 [==============================] - 524s 9ms/step - loss: 4.3760 - mae: 4.3760 - mse: 40.9692\n",
      "Epoch 7/10\n",
      "58112/58112 [==============================] - 524s 9ms/step - loss: 4.3575 - mae: 4.3575 - mse: 40.7722\n",
      "Epoch 8/10\n",
      "58112/58112 [==============================] - 523s 9ms/step - loss: 4.3465 - mae: 4.3465 - mse: 40.5956\n",
      "Epoch 9/10\n",
      "58112/58112 [==============================] - 523s 9ms/step - loss: 4.3456 - mae: 4.3456 - mse: 40.5348\n",
      "Epoch 10/10\n",
      "58112/58112 [==============================] - 524s 9ms/step - loss: 4.3341 - mae: 4.3341 - mse: 40.2772\n",
      "INFO:tensorflow:Assets written to: MODELS/MODEL1_EPOCHS10_BATCH1/assets\n"
     ]
    },
    {
     "name": "stderr",
     "output_type": "stream",
     "text": [
      "INFO:tensorflow:Assets written to: MODELS/MODEL1_EPOCHS10_BATCH1/assets\n",
      "2023-09-05 17:08:15.554559: I tensorflow/core/grappler/optimizers/custom_graph_optimizer_registry.cc:114] Plugin optimizer for device_type GPU is enabled.\n"
     ]
    },
    {
     "name": "stdout",
     "output_type": "stream",
     "text": [
      "135/135 [==============================] - 2s 11ms/step - loss: 3.7798 - mae: 3.7798 - mse: 27.4982\n",
      "MAE = 3.7798173427581787\n",
      "RMSE = 5.243873836614593\n",
      "  7/135 [>.............................] - ETA: 1s "
     ]
    },
    {
     "name": "stderr",
     "output_type": "stream",
     "text": [
      "2023-09-05 17:08:18.074695: I tensorflow/core/grappler/optimizers/custom_graph_optimizer_registry.cc:114] Plugin optimizer for device_type GPU is enabled.\n"
     ]
    },
    {
     "name": "stdout",
     "output_type": "stream",
     "text": [
      "135/135 [==============================] - 1s 9ms/step\n",
      "Epoch 1/10\n"
     ]
    },
    {
     "name": "stderr",
     "output_type": "stream",
     "text": [
      "2023-09-05 17:08:20.179527: I tensorflow/core/grappler/optimizers/custom_graph_optimizer_registry.cc:114] Plugin optimizer for device_type GPU is enabled.\n"
     ]
    },
    {
     "name": "stdout",
     "output_type": "stream",
     "text": [
      "29056/29056 [==============================] - 294s 10ms/step - loss: 4.2657 - mae: 4.2657 - mse: 39.5500\n",
      "Epoch 2/10\n",
      "29056/29056 [==============================] - 292s 10ms/step - loss: 4.2633 - mae: 4.2633 - mse: 39.4133\n",
      "Epoch 3/10\n",
      "29056/29056 [==============================] - 292s 10ms/step - loss: 4.2507 - mae: 4.2507 - mse: 39.1671\n",
      "Epoch 4/10\n",
      "29056/29056 [==============================] - 292s 10ms/step - loss: 4.2458 - mae: 4.2458 - mse: 39.1020\n",
      "Epoch 5/10\n",
      "29056/29056 [==============================] - 292s 10ms/step - loss: 4.2507 - mae: 4.2507 - mse: 39.1368\n",
      "Epoch 6/10\n",
      "29056/29056 [==============================] - 292s 10ms/step - loss: 4.2415 - mae: 4.2415 - mse: 39.0324\n",
      "Epoch 7/10\n",
      "29056/29056 [==============================] - 292s 10ms/step - loss: 4.2371 - mae: 4.2371 - mse: 38.9010\n",
      "Epoch 8/10\n",
      "29056/29056 [==============================] - 292s 10ms/step - loss: 4.2283 - mae: 4.2283 - mse: 38.7469\n",
      "Epoch 9/10\n",
      "29056/29056 [==============================] - 291s 10ms/step - loss: 4.2248 - mae: 4.2248 - mse: 38.8097\n",
      "Epoch 10/10\n",
      "29056/29056 [==============================] - 288s 10ms/step - loss: 4.2250 - mae: 4.2250 - mse: 38.7840\n",
      "INFO:tensorflow:Assets written to: MODELS/MODEL1_EPOCHS10_BATCH2/assets\n"
     ]
    },
    {
     "name": "stderr",
     "output_type": "stream",
     "text": [
      "INFO:tensorflow:Assets written to: MODELS/MODEL1_EPOCHS10_BATCH2/assets\n"
     ]
    },
    {
     "name": "stdout",
     "output_type": "stream",
     "text": [
      "  1/135 [..............................] - ETA: 16s - loss: 3.9587 - mae: 3.9587 - mse: 24.8913"
     ]
    },
    {
     "name": "stderr",
     "output_type": "stream",
     "text": [
      "2023-09-05 17:56:56.747811: I tensorflow/core/grappler/optimizers/custom_graph_optimizer_registry.cc:114] Plugin optimizer for device_type GPU is enabled.\n"
     ]
    },
    {
     "name": "stdout",
     "output_type": "stream",
     "text": [
      "135/135 [==============================] - 2s 11ms/step - loss: 3.7013 - mae: 3.7013 - mse: 26.5866\n",
      "MAE = 3.701314926147461\n",
      "RMSE = 5.156218927463193\n",
      " 19/135 [===>..........................] - ETA: 1s"
     ]
    },
    {
     "name": "stderr",
     "output_type": "stream",
     "text": [
      "2023-09-05 17:56:58.394947: I tensorflow/core/grappler/optimizers/custom_graph_optimizer_registry.cc:114] Plugin optimizer for device_type GPU is enabled.\n"
     ]
    },
    {
     "name": "stdout",
     "output_type": "stream",
     "text": [
      "135/135 [==============================] - 1s 9ms/step\n",
      "Epoch 1/10\n"
     ]
    },
    {
     "name": "stderr",
     "output_type": "stream",
     "text": [
      "2023-09-05 17:57:00.185075: I tensorflow/core/grappler/optimizers/custom_graph_optimizer_registry.cc:114] Plugin optimizer for device_type GPU is enabled.\n"
     ]
    },
    {
     "name": "stdout",
     "output_type": "stream",
     "text": [
      "14528/14528 [==============================] - 150s 10ms/step - loss: 4.1776 - mae: 4.1776 - mse: 38.2843\n",
      "Epoch 2/10\n",
      "14528/14528 [==============================] - 149s 10ms/step - loss: 4.1770 - mae: 4.1770 - mse: 38.2103\n",
      "Epoch 3/10\n",
      "14528/14528 [==============================] - 149s 10ms/step - loss: 4.1724 - mae: 4.1724 - mse: 38.2666\n",
      "Epoch 4/10\n",
      "14528/14528 [==============================] - 149s 10ms/step - loss: 4.1783 - mae: 4.1783 - mse: 38.2333\n",
      "Epoch 5/10\n",
      "14528/14528 [==============================] - 149s 10ms/step - loss: 4.1690 - mae: 4.1690 - mse: 38.0969\n",
      "Epoch 6/10\n",
      "14528/14528 [==============================] - 149s 10ms/step - loss: 4.1726 - mae: 4.1726 - mse: 38.1311\n",
      "Epoch 7/10\n",
      "14528/14528 [==============================] - 149s 10ms/step - loss: 4.1673 - mae: 4.1673 - mse: 38.0668\n",
      "Epoch 8/10\n",
      "14528/14528 [==============================] - 149s 10ms/step - loss: 4.1727 - mae: 4.1727 - mse: 38.1726\n",
      "Epoch 9/10\n",
      "14528/14528 [==============================] - 149s 10ms/step - loss: 4.1697 - mae: 4.1697 - mse: 38.0489\n",
      "Epoch 10/10\n",
      "14528/14528 [==============================] - 149s 10ms/step - loss: 4.1674 - mae: 4.1674 - mse: 38.0689\n",
      "INFO:tensorflow:Assets written to: MODELS/MODEL1_EPOCHS10_BATCH4/assets\n"
     ]
    },
    {
     "name": "stderr",
     "output_type": "stream",
     "text": [
      "INFO:tensorflow:Assets written to: MODELS/MODEL1_EPOCHS10_BATCH4/assets\n"
     ]
    },
    {
     "name": "stdout",
     "output_type": "stream",
     "text": [
      "  1/135 [..............................] - ETA: 16s - loss: 3.9201 - mae: 3.9201 - mse: 24.0792"
     ]
    },
    {
     "name": "stderr",
     "output_type": "stream",
     "text": [
      "2023-09-05 18:21:49.819853: I tensorflow/core/grappler/optimizers/custom_graph_optimizer_registry.cc:114] Plugin optimizer for device_type GPU is enabled.\n"
     ]
    },
    {
     "name": "stdout",
     "output_type": "stream",
     "text": [
      "135/135 [==============================] - 2s 11ms/step - loss: 3.7014 - mae: 3.7014 - mse: 26.4960\n",
      "MAE = 3.7014472484588623\n",
      "RMSE = 5.147430089815792\n",
      " 19/135 [===>..........................] - ETA: 1s"
     ]
    },
    {
     "name": "stderr",
     "output_type": "stream",
     "text": [
      "2023-09-05 18:21:51.456799: I tensorflow/core/grappler/optimizers/custom_graph_optimizer_registry.cc:114] Plugin optimizer for device_type GPU is enabled.\n"
     ]
    },
    {
     "name": "stdout",
     "output_type": "stream",
     "text": [
      "135/135 [==============================] - 1s 9ms/step\n",
      "Epoch 1/10\n"
     ]
    },
    {
     "name": "stderr",
     "output_type": "stream",
     "text": [
      "2023-09-05 18:21:53.435907: I tensorflow/core/grappler/optimizers/custom_graph_optimizer_registry.cc:114] Plugin optimizer for device_type GPU is enabled.\n"
     ]
    },
    {
     "name": "stdout",
     "output_type": "stream",
     "text": [
      "7264/7264 [==============================] - 97s 13ms/step - loss: 4.1493 - mae: 4.1493 - mse: 37.9342\n",
      "Epoch 2/10\n",
      "7264/7264 [==============================] - 96s 13ms/step - loss: 4.1409 - mae: 4.1409 - mse: 37.8113\n",
      "Epoch 3/10\n",
      "7264/7264 [==============================] - 96s 13ms/step - loss: 4.1443 - mae: 4.1443 - mse: 37.8418\n",
      "Epoch 4/10\n",
      "7264/7264 [==============================] - 96s 13ms/step - loss: 4.1427 - mae: 4.1427 - mse: 37.7471\n",
      "Epoch 5/10\n",
      "7264/7264 [==============================] - 96s 13ms/step - loss: 4.1431 - mae: 4.1431 - mse: 37.7728\n",
      "Epoch 6/10\n",
      "7264/7264 [==============================] - 96s 13ms/step - loss: 4.1426 - mae: 4.1426 - mse: 37.7748\n",
      "Epoch 7/10\n",
      "7264/7264 [==============================] - 96s 13ms/step - loss: 4.1423 - mae: 4.1423 - mse: 37.7692\n",
      "Epoch 8/10\n",
      "7264/7264 [==============================] - 96s 13ms/step - loss: 4.1392 - mae: 4.1392 - mse: 37.7393\n",
      "Epoch 9/10\n",
      "7264/7264 [==============================] - 96s 13ms/step - loss: 4.1356 - mae: 4.1356 - mse: 37.7570\n",
      "Epoch 10/10\n",
      "7264/7264 [==============================] - 96s 13ms/step - loss: 4.1421 - mae: 4.1421 - mse: 37.8433\n",
      "INFO:tensorflow:Assets written to: MODELS/MODEL1_EPOCHS10_BATCH8/assets\n"
     ]
    },
    {
     "name": "stderr",
     "output_type": "stream",
     "text": [
      "INFO:tensorflow:Assets written to: MODELS/MODEL1_EPOCHS10_BATCH8/assets\n"
     ]
    },
    {
     "name": "stdout",
     "output_type": "stream",
     "text": [
      "  1/135 [..............................] - ETA: 16s - loss: 3.8944 - mae: 3.8944 - mse: 23.9539"
     ]
    },
    {
     "name": "stderr",
     "output_type": "stream",
     "text": [
      "2023-09-05 18:37:53.394292: I tensorflow/core/grappler/optimizers/custom_graph_optimizer_registry.cc:114] Plugin optimizer for device_type GPU is enabled.\n"
     ]
    },
    {
     "name": "stdout",
     "output_type": "stream",
     "text": [
      "135/135 [==============================] - 2s 11ms/step - loss: 3.6548 - mae: 3.6548 - mse: 25.9956\n",
      "MAE = 3.654766082763672\n",
      "RMSE = 5.098583525876272\n",
      " 19/135 [===>..........................] - ETA: 1s"
     ]
    },
    {
     "name": "stderr",
     "output_type": "stream",
     "text": [
      "2023-09-05 18:37:55.052695: I tensorflow/core/grappler/optimizers/custom_graph_optimizer_registry.cc:114] Plugin optimizer for device_type GPU is enabled.\n"
     ]
    },
    {
     "name": "stdout",
     "output_type": "stream",
     "text": [
      "135/135 [==============================] - 1s 10ms/step\n",
      "Epoch 1/10\n"
     ]
    },
    {
     "name": "stderr",
     "output_type": "stream",
     "text": [
      "2023-09-05 18:37:57.168827: I tensorflow/core/grappler/optimizers/custom_graph_optimizer_registry.cc:114] Plugin optimizer for device_type GPU is enabled.\n"
     ]
    },
    {
     "name": "stdout",
     "output_type": "stream",
     "text": [
      "3632/3632 [==============================] - 81s 22ms/step - loss: 4.1342 - mae: 4.1342 - mse: 37.7671\n",
      "Epoch 2/10\n",
      "3632/3632 [==============================] - 80s 22ms/step - loss: 4.1344 - mae: 4.1344 - mse: 37.7973\n",
      "Epoch 3/10\n",
      "3632/3632 [==============================] - 80s 22ms/step - loss: 4.1295 - mae: 4.1295 - mse: 37.7320\n",
      "Epoch 4/10\n",
      "3632/3632 [==============================] - 80s 22ms/step - loss: 4.1307 - mae: 4.1307 - mse: 37.7785\n",
      "Epoch 5/10\n",
      "3632/3632 [==============================] - 80s 22ms/step - loss: 4.1280 - mae: 4.1280 - mse: 37.7448\n",
      "Epoch 6/10\n",
      "3632/3632 [==============================] - 80s 22ms/step - loss: 4.1279 - mae: 4.1279 - mse: 37.7278\n",
      "Epoch 7/10\n",
      "3632/3632 [==============================] - 80s 22ms/step - loss: 4.1317 - mae: 4.1317 - mse: 37.7372\n",
      "Epoch 8/10\n",
      "3632/3632 [==============================] - 80s 22ms/step - loss: 4.1345 - mae: 4.1345 - mse: 37.7357\n",
      "Epoch 9/10\n",
      "3632/3632 [==============================] - 81s 22ms/step - loss: 4.1263 - mae: 4.1263 - mse: 37.6902\n",
      "Epoch 10/10\n",
      "3632/3632 [==============================] - 81s 22ms/step - loss: 4.1283 - mae: 4.1283 - mse: 37.6771\n",
      "INFO:tensorflow:Assets written to: MODELS/MODEL1_EPOCHS10_BATCH16/assets\n"
     ]
    },
    {
     "name": "stderr",
     "output_type": "stream",
     "text": [
      "INFO:tensorflow:Assets written to: MODELS/MODEL1_EPOCHS10_BATCH16/assets\n"
     ]
    },
    {
     "name": "stdout",
     "output_type": "stream",
     "text": [
      "  1/135 [..............................] - ETA: 16s - loss: 3.9060 - mae: 3.9060 - mse: 24.2062"
     ]
    },
    {
     "name": "stderr",
     "output_type": "stream",
     "text": [
      "2023-09-05 18:51:23.082691: I tensorflow/core/grappler/optimizers/custom_graph_optimizer_registry.cc:114] Plugin optimizer for device_type GPU is enabled.\n"
     ]
    },
    {
     "name": "stdout",
     "output_type": "stream",
     "text": [
      "135/135 [==============================] - 2s 11ms/step - loss: 3.6818 - mae: 3.6818 - mse: 26.2227\n",
      "MAE = 3.681846857070923\n",
      "RMSE = 5.1208097494072184\n",
      " 19/135 [===>..........................] - ETA: 1s"
     ]
    },
    {
     "name": "stderr",
     "output_type": "stream",
     "text": [
      "2023-09-05 18:51:24.711028: I tensorflow/core/grappler/optimizers/custom_graph_optimizer_registry.cc:114] Plugin optimizer for device_type GPU is enabled.\n"
     ]
    },
    {
     "name": "stdout",
     "output_type": "stream",
     "text": [
      "135/135 [==============================] - 1s 10ms/step\n",
      "Epoch 1/10\n"
     ]
    },
    {
     "name": "stderr",
     "output_type": "stream",
     "text": [
      "2023-09-05 18:51:27.348213: I tensorflow/core/grappler/optimizers/custom_graph_optimizer_registry.cc:114] Plugin optimizer for device_type GPU is enabled.\n"
     ]
    },
    {
     "name": "stdout",
     "output_type": "stream",
     "text": [
      "58112/58112 [==============================] - 487s 8ms/step - loss: 5.2374 - mae: 5.2374 - mse: 64.7447\n",
      "Epoch 2/10\n",
      "58112/58112 [==============================] - 493s 8ms/step - loss: 4.2301 - mae: 4.2301 - mse: 39.0215\n",
      "Epoch 3/10\n",
      "58112/58112 [==============================] - 493s 8ms/step - loss: 4.1924 - mae: 4.1924 - mse: 38.5704\n",
      "Epoch 4/10\n",
      "58112/58112 [==============================] - 493s 8ms/step - loss: 4.1770 - mae: 4.1770 - mse: 38.3202\n",
      "Epoch 5/10\n",
      "58112/58112 [==============================] - 493s 8ms/step - loss: 4.1587 - mae: 4.1587 - mse: 37.9329\n",
      "Epoch 6/10\n",
      "58112/58112 [==============================] - 493s 8ms/step - loss: 4.1406 - mae: 4.1406 - mse: 37.6037\n",
      "Epoch 7/10\n",
      "58112/58112 [==============================] - 499s 9ms/step - loss: 4.1236 - mae: 4.1236 - mse: 37.3159\n",
      "Epoch 8/10\n",
      "58112/58112 [==============================] - 499s 9ms/step - loss: 4.0969 - mae: 4.0969 - mse: 36.9930\n",
      "Epoch 9/10\n",
      "58112/58112 [==============================] - 500s 9ms/step - loss: 4.0773 - mae: 4.0773 - mse: 36.6096\n",
      "Epoch 10/10\n",
      "58112/58112 [==============================] - 500s 9ms/step - loss: 4.0476 - mae: 4.0476 - mse: 36.2444\n",
      "INFO:tensorflow:Assets written to: MODELS/MODEL2_EPOCHS10_BATCH1/assets\n"
     ]
    },
    {
     "name": "stderr",
     "output_type": "stream",
     "text": [
      "INFO:tensorflow:Assets written to: MODELS/MODEL2_EPOCHS10_BATCH1/assets\n",
      "2023-09-05 20:13:59.476004: I tensorflow/core/grappler/optimizers/custom_graph_optimizer_registry.cc:114] Plugin optimizer for device_type GPU is enabled.\n"
     ]
    },
    {
     "name": "stdout",
     "output_type": "stream",
     "text": [
      "135/135 [==============================] - 2s 10ms/step - loss: 3.9012 - mae: 3.9012 - mse: 28.3173\n",
      "MAE = 3.9012112617492676\n",
      "RMSE = 5.321396144574301\n",
      " 15/135 [==>...........................] - ETA: 0s"
     ]
    },
    {
     "name": "stderr",
     "output_type": "stream",
     "text": [
      "2023-09-05 20:14:01.167642: I tensorflow/core/grappler/optimizers/custom_graph_optimizer_registry.cc:114] Plugin optimizer for device_type GPU is enabled.\n"
     ]
    },
    {
     "name": "stdout",
     "output_type": "stream",
     "text": [
      "135/135 [==============================] - 1s 8ms/step\n",
      "Epoch 1/10\n"
     ]
    },
    {
     "name": "stderr",
     "output_type": "stream",
     "text": [
      "2023-09-05 20:14:02.785377: I tensorflow/core/grappler/optimizers/custom_graph_optimizer_registry.cc:114] Plugin optimizer for device_type GPU is enabled.\n"
     ]
    },
    {
     "name": "stdout",
     "output_type": "stream",
     "text": [
      "29056/29056 [==============================] - 277s 10ms/step - loss: 4.0169 - mae: 4.0169 - mse: 35.8350\n",
      "Epoch 2/10\n",
      "29056/29056 [==============================] - 275s 9ms/step - loss: 3.9728 - mae: 3.9728 - mse: 35.1752\n",
      "Epoch 3/10\n",
      "29056/29056 [==============================] - 277s 10ms/step - loss: 3.9426 - mae: 3.9426 - mse: 34.7600\n",
      "Epoch 4/10\n",
      "29056/29056 [==============================] - 276s 9ms/step - loss: 3.9043 - mae: 3.9043 - mse: 34.0475\n",
      "Epoch 5/10\n",
      "29056/29056 [==============================] - 275s 9ms/step - loss: 3.8609 - mae: 3.8609 - mse: 33.6315\n",
      "Epoch 6/10\n",
      "29056/29056 [==============================] - 279s 10ms/step - loss: 3.8103 - mae: 3.8103 - mse: 32.9038\n",
      "Epoch 7/10\n",
      "29056/29056 [==============================] - 275s 9ms/step - loss: 3.7495 - mae: 3.7495 - mse: 32.2346\n",
      "Epoch 8/10\n",
      "29056/29056 [==============================] - 276s 10ms/step - loss: 3.6985 - mae: 3.6985 - mse: 31.5061\n",
      "Epoch 9/10\n",
      "29056/29056 [==============================] - 275s 9ms/step - loss: 3.6351 - mae: 3.6351 - mse: 30.6786\n",
      "Epoch 10/10\n",
      "29056/29056 [==============================] - 275s 9ms/step - loss: 3.5747 - mae: 3.5747 - mse: 29.8540\n",
      "INFO:tensorflow:Assets written to: MODELS/MODEL2_EPOCHS10_BATCH2/assets\n"
     ]
    },
    {
     "name": "stderr",
     "output_type": "stream",
     "text": [
      "INFO:tensorflow:Assets written to: MODELS/MODEL2_EPOCHS10_BATCH2/assets\n"
     ]
    },
    {
     "name": "stdout",
     "output_type": "stream",
     "text": [
      "  1/135 [..............................] - ETA: 17s - loss: 3.9048 - mae: 3.9048 - mse: 22.7684"
     ]
    },
    {
     "name": "stderr",
     "output_type": "stream",
     "text": [
      "2023-09-05 21:00:03.818789: I tensorflow/core/grappler/optimizers/custom_graph_optimizer_registry.cc:114] Plugin optimizer for device_type GPU is enabled.\n"
     ]
    },
    {
     "name": "stdout",
     "output_type": "stream",
     "text": [
      "135/135 [==============================] - 2s 11ms/step - loss: 3.8578 - mae: 3.8578 - mse: 27.9140\n",
      "MAE = 3.857771635055542\n",
      "RMSE = 5.283370275197807\n",
      " 14/135 [==>...........................] - ETA: 1s"
     ]
    },
    {
     "name": "stderr",
     "output_type": "stream",
     "text": [
      "2023-09-05 21:00:05.410243: I tensorflow/core/grappler/optimizers/custom_graph_optimizer_registry.cc:114] Plugin optimizer for device_type GPU is enabled.\n"
     ]
    },
    {
     "name": "stdout",
     "output_type": "stream",
     "text": [
      "135/135 [==============================] - 1s 7ms/step\n",
      "Epoch 1/10\n"
     ]
    },
    {
     "name": "stderr",
     "output_type": "stream",
     "text": [
      "2023-09-05 21:00:06.997402: I tensorflow/core/grappler/optimizers/custom_graph_optimizer_registry.cc:114] Plugin optimizer for device_type GPU is enabled.\n"
     ]
    },
    {
     "name": "stdout",
     "output_type": "stream",
     "text": [
      "14528/14528 [==============================] - 153s 10ms/step - loss: 3.5070 - mae: 3.5070 - mse: 29.0937\n",
      "Epoch 2/10\n",
      "14528/14528 [==============================] - 152s 10ms/step - loss: 3.4288 - mae: 3.4288 - mse: 28.1837\n",
      "Epoch 3/10\n",
      "14528/14528 [==============================] - 152s 10ms/step - loss: 3.3803 - mae: 3.3803 - mse: 27.5172\n",
      "Epoch 4/10\n",
      "14528/14528 [==============================] - 152s 10ms/step - loss: 3.3236 - mae: 3.3236 - mse: 26.8841\n",
      "Epoch 5/10\n",
      "14528/14528 [==============================] - 151s 10ms/step - loss: 3.2575 - mae: 3.2575 - mse: 26.0109\n",
      "Epoch 6/10\n",
      "14528/14528 [==============================] - 151s 10ms/step - loss: 3.2127 - mae: 3.2127 - mse: 25.4086\n",
      "Epoch 7/10\n",
      "14528/14528 [==============================] - 151s 10ms/step - loss: 3.1665 - mae: 3.1665 - mse: 24.6841\n",
      "Epoch 8/10\n",
      "14528/14528 [==============================] - 152s 10ms/step - loss: 3.1332 - mae: 3.1332 - mse: 24.3310\n",
      "Epoch 9/10\n",
      "14528/14528 [==============================] - 153s 11ms/step - loss: 3.0800 - mae: 3.0800 - mse: 23.6025\n",
      "Epoch 10/10\n",
      "14528/14528 [==============================] - 152s 10ms/step - loss: 3.0454 - mae: 3.0454 - mse: 23.2115\n",
      "INFO:tensorflow:Assets written to: MODELS/MODEL2_EPOCHS10_BATCH4/assets\n"
     ]
    },
    {
     "name": "stderr",
     "output_type": "stream",
     "text": [
      "INFO:tensorflow:Assets written to: MODELS/MODEL2_EPOCHS10_BATCH4/assets\n"
     ]
    },
    {
     "name": "stdout",
     "output_type": "stream",
     "text": [
      "  1/135 [..............................] - ETA: 16s - loss: 3.9529 - mae: 3.9529 - mse: 24.6501"
     ]
    },
    {
     "name": "stderr",
     "output_type": "stream",
     "text": [
      "2023-09-05 21:25:26.226661: I tensorflow/core/grappler/optimizers/custom_graph_optimizer_registry.cc:114] Plugin optimizer for device_type GPU is enabled.\n"
     ]
    },
    {
     "name": "stdout",
     "output_type": "stream",
     "text": [
      "135/135 [==============================] - 2s 11ms/step - loss: 3.9187 - mae: 3.9187 - mse: 28.9114\n",
      "MAE = 3.918707847595215\n",
      "RMSE = 5.376927761983861\n",
      " 14/135 [==>...........................] - ETA: 1s"
     ]
    },
    {
     "name": "stderr",
     "output_type": "stream",
     "text": [
      "2023-09-05 21:25:27.782645: I tensorflow/core/grappler/optimizers/custom_graph_optimizer_registry.cc:114] Plugin optimizer for device_type GPU is enabled.\n"
     ]
    },
    {
     "name": "stdout",
     "output_type": "stream",
     "text": [
      "135/135 [==============================] - 1s 8ms/step\n",
      "Epoch 1/10\n"
     ]
    },
    {
     "name": "stderr",
     "output_type": "stream",
     "text": [
      "2023-09-05 21:25:29.705538: I tensorflow/core/grappler/optimizers/custom_graph_optimizer_registry.cc:114] Plugin optimizer for device_type GPU is enabled.\n"
     ]
    },
    {
     "name": "stdout",
     "output_type": "stream",
     "text": [
      "7264/7264 [==============================] - 82s 11ms/step - loss: 2.9676 - mae: 2.9676 - mse: 22.6437\n",
      "Epoch 2/10\n",
      "7264/7264 [==============================] - 81s 11ms/step - loss: 2.9154 - mae: 2.9154 - mse: 22.0337\n",
      "Epoch 3/10\n",
      "7264/7264 [==============================] - 82s 11ms/step - loss: 2.8764 - mae: 2.8764 - mse: 21.5839\n",
      "Epoch 4/10\n",
      "7264/7264 [==============================] - 83s 11ms/step - loss: 2.8448 - mae: 2.8448 - mse: 21.2321\n",
      "Epoch 5/10\n",
      "7264/7264 [==============================] - 82s 11ms/step - loss: 2.8091 - mae: 2.8091 - mse: 20.7933\n",
      "Epoch 6/10\n",
      "7264/7264 [==============================] - 81s 11ms/step - loss: 2.7844 - mae: 2.7844 - mse: 20.5291\n",
      "Epoch 7/10\n",
      "7264/7264 [==============================] - 81s 11ms/step - loss: 2.7569 - mae: 2.7569 - mse: 20.1792\n",
      "Epoch 8/10\n",
      "7264/7264 [==============================] - 81s 11ms/step - loss: 2.7340 - mae: 2.7340 - mse: 19.9624\n",
      "Epoch 9/10\n",
      "7264/7264 [==============================] - 81s 11ms/step - loss: 2.7067 - mae: 2.7067 - mse: 19.6249\n",
      "Epoch 10/10\n",
      "7264/7264 [==============================] - 81s 11ms/step - loss: 2.6836 - mae: 2.6836 - mse: 19.2963\n",
      "INFO:tensorflow:Assets written to: MODELS/MODEL2_EPOCHS10_BATCH8/assets\n"
     ]
    },
    {
     "name": "stderr",
     "output_type": "stream",
     "text": [
      "INFO:tensorflow:Assets written to: MODELS/MODEL2_EPOCHS10_BATCH8/assets\n"
     ]
    },
    {
     "name": "stdout",
     "output_type": "stream",
     "text": [
      "  1/135 [..............................] - ETA: 17s - loss: 4.0096 - mae: 4.0096 - mse: 26.4092"
     ]
    },
    {
     "name": "stderr",
     "output_type": "stream",
     "text": [
      "2023-09-05 21:39:06.160814: I tensorflow/core/grappler/optimizers/custom_graph_optimizer_registry.cc:114] Plugin optimizer for device_type GPU is enabled.\n"
     ]
    },
    {
     "name": "stdout",
     "output_type": "stream",
     "text": [
      "135/135 [==============================] - 2s 11ms/step - loss: 4.1112 - mae: 4.1112 - mse: 31.7580\n",
      "MAE = 4.111196041107178\n",
      "RMSE = 5.635421423871846\n",
      " 16/135 [==>...........................] - ETA: 0s"
     ]
    },
    {
     "name": "stderr",
     "output_type": "stream",
     "text": [
      "2023-09-05 21:39:07.717319: I tensorflow/core/grappler/optimizers/custom_graph_optimizer_registry.cc:114] Plugin optimizer for device_type GPU is enabled.\n"
     ]
    },
    {
     "name": "stdout",
     "output_type": "stream",
     "text": [
      "135/135 [==============================] - 1s 7ms/step\n",
      "Epoch 1/10\n"
     ]
    },
    {
     "name": "stderr",
     "output_type": "stream",
     "text": [
      "2023-09-05 21:39:09.290406: I tensorflow/core/grappler/optimizers/custom_graph_optimizer_registry.cc:114] Plugin optimizer for device_type GPU is enabled.\n"
     ]
    },
    {
     "name": "stdout",
     "output_type": "stream",
     "text": [
      "3632/3632 [==============================] - 66s 18ms/step - loss: 2.5789 - mae: 2.5789 - mse: 18.7392\n",
      "Epoch 2/10\n",
      "3632/3632 [==============================] - 65s 18ms/step - loss: 2.5343 - mae: 2.5343 - mse: 18.2683\n",
      "Epoch 3/10\n",
      "3632/3632 [==============================] - 65s 18ms/step - loss: 2.5016 - mae: 2.5016 - mse: 18.0367\n",
      "Epoch 4/10\n",
      "3632/3632 [==============================] - 65s 18ms/step - loss: 2.4798 - mae: 2.4798 - mse: 17.7272\n",
      "Epoch 5/10\n",
      "3632/3632 [==============================] - 65s 18ms/step - loss: 2.4514 - mae: 2.4514 - mse: 17.4373\n",
      "Epoch 6/10\n",
      "3632/3632 [==============================] - 65s 18ms/step - loss: 2.4392 - mae: 2.4392 - mse: 17.3152\n",
      "Epoch 7/10\n",
      "3632/3632 [==============================] - 65s 18ms/step - loss: 2.4233 - mae: 2.4233 - mse: 17.0897\n",
      "Epoch 8/10\n",
      "3632/3632 [==============================] - 65s 18ms/step - loss: 2.4051 - mae: 2.4051 - mse: 16.9707\n",
      "Epoch 9/10\n",
      "3632/3632 [==============================] - 65s 18ms/step - loss: 2.3922 - mae: 2.3922 - mse: 16.7024\n",
      "Epoch 10/10\n",
      "3632/3632 [==============================] - 65s 18ms/step - loss: 2.3701 - mae: 2.3701 - mse: 16.5409\n",
      "INFO:tensorflow:Assets written to: MODELS/MODEL2_EPOCHS10_BATCH16/assets\n"
     ]
    },
    {
     "name": "stderr",
     "output_type": "stream",
     "text": [
      "INFO:tensorflow:Assets written to: MODELS/MODEL2_EPOCHS10_BATCH16/assets\n"
     ]
    },
    {
     "name": "stdout",
     "output_type": "stream",
     "text": [
      "  1/135 [..............................] - ETA: 17s - loss: 4.0144 - mae: 4.0144 - mse: 27.3259"
     ]
    },
    {
     "name": "stderr",
     "output_type": "stream",
     "text": [
      "2023-09-05 21:50:02.254287: I tensorflow/core/grappler/optimizers/custom_graph_optimizer_registry.cc:114] Plugin optimizer for device_type GPU is enabled.\n"
     ]
    },
    {
     "name": "stdout",
     "output_type": "stream",
     "text": [
      "135/135 [==============================] - 2s 11ms/step - loss: 4.2710 - mae: 4.2710 - mse: 34.0758\n",
      "MAE = 4.271011829376221\n",
      "RMSE = 5.837443983311599\n",
      " 14/135 [==>...........................] - ETA: 0s"
     ]
    },
    {
     "name": "stderr",
     "output_type": "stream",
     "text": [
      "2023-09-05 21:50:03.831857: I tensorflow/core/grappler/optimizers/custom_graph_optimizer_registry.cc:114] Plugin optimizer for device_type GPU is enabled.\n"
     ]
    },
    {
     "name": "stdout",
     "output_type": "stream",
     "text": [
      "135/135 [==============================] - 1s 8ms/step\n",
      "Epoch 1/10\n"
     ]
    },
    {
     "name": "stderr",
     "output_type": "stream",
     "text": [
      "2023-09-05 21:50:05.643771: I tensorflow/core/grappler/optimizers/custom_graph_optimizer_registry.cc:114] Plugin optimizer for device_type GPU is enabled.\n"
     ]
    },
    {
     "name": "stdout",
     "output_type": "stream",
     "text": [
      "58112/58112 [==============================] - 625s 11ms/step - loss: 5.2400 - mae: 5.2400 - mse: 63.7769\n",
      "Epoch 2/10\n",
      "58112/58112 [==============================] - 623s 11ms/step - loss: 4.1992 - mae: 4.1992 - mse: 38.2825\n",
      "Epoch 3/10\n",
      "58112/58112 [==============================] - 623s 11ms/step - loss: 4.1316 - mae: 4.1316 - mse: 37.3109\n",
      "Epoch 4/10\n",
      "58112/58112 [==============================] - 626s 11ms/step - loss: 4.0820 - mae: 4.0820 - mse: 36.4177\n",
      "Epoch 5/10\n",
      "58112/58112 [==============================] - 625s 11ms/step - loss: 3.9951 - mae: 3.9951 - mse: 35.2463\n",
      "Epoch 6/10\n",
      "58112/58112 [==============================] - 622s 11ms/step - loss: 3.8637 - mae: 3.8637 - mse: 33.5340\n",
      "Epoch 7/10\n",
      "58112/58112 [==============================] - 623s 11ms/step - loss: 3.7043 - mae: 3.7043 - mse: 31.3948\n",
      "Epoch 8/10\n",
      "58112/58112 [==============================] - 623s 11ms/step - loss: 3.5072 - mae: 3.5072 - mse: 28.9749\n",
      "Epoch 9/10\n",
      "58112/58112 [==============================] - 624s 11ms/step - loss: 3.3116 - mae: 3.3116 - mse: 26.4886\n",
      "Epoch 10/10\n",
      "58112/58112 [==============================] - 627s 11ms/step - loss: 3.1221 - mae: 3.1221 - mse: 24.1798\n",
      "INFO:tensorflow:Assets written to: MODELS/MODEL3_EPOCHS10_BATCH1/assets\n"
     ]
    },
    {
     "name": "stderr",
     "output_type": "stream",
     "text": [
      "INFO:tensorflow:Assets written to: MODELS/MODEL3_EPOCHS10_BATCH1/assets\n",
      "2023-09-05 23:34:07.065481: I tensorflow/core/grappler/optimizers/custom_graph_optimizer_registry.cc:114] Plugin optimizer for device_type GPU is enabled.\n"
     ]
    },
    {
     "name": "stdout",
     "output_type": "stream",
     "text": [
      "135/135 [==============================] - 10s 72ms/step - loss: 3.9716 - mae: 3.9716 - mse: 29.6189\n",
      "MAE = 3.9715795516967773\n",
      "RMSE = 5.442324022173716\n",
      "  4/135 [..............................] - ETA: 6s"
     ]
    },
    {
     "name": "stderr",
     "output_type": "stream",
     "text": [
      "2023-09-05 23:34:17.048206: I tensorflow/core/grappler/optimizers/custom_graph_optimizer_registry.cc:114] Plugin optimizer for device_type GPU is enabled.\n"
     ]
    },
    {
     "name": "stdout",
     "output_type": "stream",
     "text": [
      "135/135 [==============================] - 9s 68ms/step\n",
      "Epoch 1/10\n"
     ]
    },
    {
     "name": "stderr",
     "output_type": "stream",
     "text": [
      "2023-09-05 23:34:27.049171: I tensorflow/core/grappler/optimizers/custom_graph_optimizer_registry.cc:114] Plugin optimizer for device_type GPU is enabled.\n"
     ]
    },
    {
     "name": "stdout",
     "output_type": "stream",
     "text": [
      "29056/29056 [==============================] - 505s 17ms/step - loss: 3.1319 - mae: 3.1319 - mse: 23.9388\n",
      "Epoch 2/10\n",
      "29056/29056 [==============================] - 503s 17ms/step - loss: 3.0019 - mae: 3.0019 - mse: 22.2948\n",
      "Epoch 3/10\n",
      "29056/29056 [==============================] - 504s 17ms/step - loss: 2.8992 - mae: 2.8992 - mse: 21.0550\n",
      "Epoch 4/10\n",
      "29056/29056 [==============================] - 509s 18ms/step - loss: 2.8087 - mae: 2.8087 - mse: 20.0356\n",
      "Epoch 5/10\n",
      "29056/29056 [==============================] - 510s 18ms/step - loss: 2.7363 - mae: 2.7363 - mse: 19.2347\n",
      "Epoch 6/10\n",
      "29056/29056 [==============================] - 508s 17ms/step - loss: 2.6628 - mae: 2.6628 - mse: 18.3333\n",
      "Epoch 7/10\n",
      "29056/29056 [==============================] - 506s 17ms/step - loss: 2.5917 - mae: 2.5917 - mse: 17.4223\n",
      "Epoch 8/10\n",
      "29056/29056 [==============================] - 507s 17ms/step - loss: 2.5503 - mae: 2.5503 - mse: 16.9147\n",
      "Epoch 9/10\n",
      "29056/29056 [==============================] - 508s 17ms/step - loss: 2.4889 - mae: 2.4889 - mse: 16.2374\n",
      "Epoch 10/10\n",
      "29056/29056 [==============================] - 510s 18ms/step - loss: 2.4447 - mae: 2.4447 - mse: 15.6885\n",
      "INFO:tensorflow:Assets written to: MODELS/MODEL3_EPOCHS10_BATCH2/assets\n"
     ]
    },
    {
     "name": "stderr",
     "output_type": "stream",
     "text": [
      "INFO:tensorflow:Assets written to: MODELS/MODEL3_EPOCHS10_BATCH2/assets\n",
      "2023-09-06 00:58:56.635529: I tensorflow/core/grappler/optimizers/custom_graph_optimizer_registry.cc:114] Plugin optimizer for device_type GPU is enabled.\n"
     ]
    },
    {
     "name": "stdout",
     "output_type": "stream",
     "text": [
      "135/135 [==============================] - 10s 72ms/step - loss: 4.0353 - mae: 4.0353 - mse: 30.6755\n",
      "MAE = 4.035299301147461\n",
      "RMSE = 5.538542686788989\n",
      "  4/135 [..............................] - ETA: 6s"
     ]
    },
    {
     "name": "stderr",
     "output_type": "stream",
     "text": [
      "2023-09-06 00:59:06.450122: I tensorflow/core/grappler/optimizers/custom_graph_optimizer_registry.cc:114] Plugin optimizer for device_type GPU is enabled.\n"
     ]
    },
    {
     "name": "stdout",
     "output_type": "stream",
     "text": [
      "135/135 [==============================] - 9s 67ms/step\n",
      "Epoch 1/10\n"
     ]
    },
    {
     "name": "stderr",
     "output_type": "stream",
     "text": [
      "2023-09-06 00:59:16.365190: I tensorflow/core/grappler/optimizers/custom_graph_optimizer_registry.cc:114] Plugin optimizer for device_type GPU is enabled.\n"
     ]
    },
    {
     "name": "stdout",
     "output_type": "stream",
     "text": [
      "14528/14528 [==============================] - 451s 31ms/step - loss: 2.5114 - mae: 2.5114 - mse: 16.6505\n",
      "Epoch 2/10\n",
      "14528/14528 [==============================] - 450s 31ms/step - loss: 2.4375 - mae: 2.4375 - mse: 15.9386\n",
      "Epoch 3/10\n",
      "14528/14528 [==============================] - 450s 31ms/step - loss: 2.3959 - mae: 2.3959 - mse: 15.3620\n",
      "Epoch 4/10\n",
      "14528/14528 [==============================] - 451s 31ms/step - loss: 2.3650 - mae: 2.3650 - mse: 15.2056\n",
      "Epoch 5/10\n",
      "14528/14528 [==============================] - 451s 31ms/step - loss: 2.3371 - mae: 2.3371 - mse: 14.8326\n",
      "Epoch 6/10\n",
      "14528/14528 [==============================] - 451s 31ms/step - loss: 2.3054 - mae: 2.3054 - mse: 14.3742\n",
      "Epoch 7/10\n",
      "14528/14528 [==============================] - 452s 31ms/step - loss: 2.2826 - mae: 2.2826 - mse: 14.1997\n",
      "Epoch 8/10\n",
      "14528/14528 [==============================] - 452s 31ms/step - loss: 2.2596 - mae: 2.2596 - mse: 14.0778\n",
      "Epoch 9/10\n",
      "14528/14528 [==============================] - 452s 31ms/step - loss: 2.2446 - mae: 2.2446 - mse: 13.8868\n",
      "Epoch 10/10\n",
      "14528/14528 [==============================] - 452s 31ms/step - loss: 2.2220 - mae: 2.2220 - mse: 13.5084\n",
      "INFO:tensorflow:Assets written to: MODELS/MODEL3_EPOCHS10_BATCH4/assets\n"
     ]
    },
    {
     "name": "stderr",
     "output_type": "stream",
     "text": [
      "INFO:tensorflow:Assets written to: MODELS/MODEL3_EPOCHS10_BATCH4/assets\n",
      "2023-09-06 02:14:29.258199: I tensorflow/core/grappler/optimizers/custom_graph_optimizer_registry.cc:114] Plugin optimizer for device_type GPU is enabled.\n"
     ]
    },
    {
     "name": "stdout",
     "output_type": "stream",
     "text": [
      "135/135 [==============================] - 10s 72ms/step - loss: 4.1687 - mae: 4.1687 - mse: 32.2870\n",
      "MAE = 4.16868782043457\n",
      "RMSE = 5.682164298872813\n",
      "  4/135 [..............................] - ETA: 7s"
     ]
    },
    {
     "name": "stderr",
     "output_type": "stream",
     "text": [
      "2023-09-06 02:14:39.068594: I tensorflow/core/grappler/optimizers/custom_graph_optimizer_registry.cc:114] Plugin optimizer for device_type GPU is enabled.\n"
     ]
    },
    {
     "name": "stdout",
     "output_type": "stream",
     "text": [
      "135/135 [==============================] - 9s 67ms/step\n",
      "Epoch 1/10\n"
     ]
    },
    {
     "name": "stderr",
     "output_type": "stream",
     "text": [
      "2023-09-06 02:14:48.746082: I tensorflow/core/grappler/optimizers/custom_graph_optimizer_registry.cc:114] Plugin optimizer for device_type GPU is enabled.\n"
     ]
    },
    {
     "name": "stdout",
     "output_type": "stream",
     "text": [
      "7264/7264 [==============================] - 421s 58ms/step - loss: 2.1717 - mae: 2.1717 - mse: 13.5574\n",
      "Epoch 2/10\n",
      "7264/7264 [==============================] - 422s 58ms/step - loss: 2.1059 - mae: 2.1059 - mse: 12.9762\n",
      "Epoch 3/10\n",
      "7264/7264 [==============================] - 425s 58ms/step - loss: 2.0806 - mae: 2.0806 - mse: 12.6424\n",
      "Epoch 4/10\n",
      "7264/7264 [==============================] - 423s 58ms/step - loss: 2.0535 - mae: 2.0535 - mse: 12.3676\n",
      "Epoch 5/10\n",
      "7264/7264 [==============================] - 423s 58ms/step - loss: 2.0412 - mae: 2.0412 - mse: 12.2552\n",
      "Epoch 6/10\n",
      "7264/7264 [==============================] - 423s 58ms/step - loss: 2.0190 - mae: 2.0190 - mse: 12.1485\n",
      "Epoch 7/10\n",
      "7264/7264 [==============================] - 425s 58ms/step - loss: 2.0058 - mae: 2.0058 - mse: 12.0134\n",
      "Epoch 8/10\n",
      "7264/7264 [==============================] - 425s 59ms/step - loss: 1.9945 - mae: 1.9945 - mse: 11.8179\n",
      "Epoch 9/10\n",
      "7264/7264 [==============================] - 426s 59ms/step - loss: 1.9844 - mae: 1.9844 - mse: 11.7166\n",
      "Epoch 10/10\n",
      "7264/7264 [==============================] - 425s 59ms/step - loss: 1.9810 - mae: 1.9810 - mse: 11.7015\n",
      "INFO:tensorflow:Assets written to: MODELS/MODEL3_EPOCHS10_BATCH8/assets\n"
     ]
    },
    {
     "name": "stderr",
     "output_type": "stream",
     "text": [
      "INFO:tensorflow:Assets written to: MODELS/MODEL3_EPOCHS10_BATCH8/assets\n",
      "2023-09-06 03:25:26.780357: I tensorflow/core/grappler/optimizers/custom_graph_optimizer_registry.cc:114] Plugin optimizer for device_type GPU is enabled.\n"
     ]
    },
    {
     "name": "stdout",
     "output_type": "stream",
     "text": [
      "135/135 [==============================] - 10s 71ms/step - loss: 4.2825 - mae: 4.2825 - mse: 34.5191\n",
      "MAE = 4.282456874847412\n",
      "RMSE = 5.8752993243645815\n",
      "  3/135 [..............................] - ETA: 7s"
     ]
    },
    {
     "name": "stderr",
     "output_type": "stream",
     "text": [
      "2023-09-06 03:25:36.535290: I tensorflow/core/grappler/optimizers/custom_graph_optimizer_registry.cc:114] Plugin optimizer for device_type GPU is enabled.\n"
     ]
    },
    {
     "name": "stdout",
     "output_type": "stream",
     "text": [
      "135/135 [==============================] - 9s 69ms/step\n",
      "Epoch 1/10\n"
     ]
    },
    {
     "name": "stderr",
     "output_type": "stream",
     "text": [
      "2023-09-06 03:25:46.572841: I tensorflow/core/grappler/optimizers/custom_graph_optimizer_registry.cc:114] Plugin optimizer for device_type GPU is enabled.\n"
     ]
    },
    {
     "name": "stdout",
     "output_type": "stream",
     "text": [
      "3632/3632 [==============================] - 411s 113ms/step - loss: 1.8361 - mae: 1.8361 - mse: 10.9140\n",
      "Epoch 2/10\n",
      "3632/3632 [==============================] - 412s 114ms/step - loss: 1.7938 - mae: 1.7938 - mse: 10.6383\n",
      "Epoch 3/10\n",
      "3632/3632 [==============================] - 410s 113ms/step - loss: 1.7735 - mae: 1.7735 - mse: 10.3981\n",
      "Epoch 4/10\n",
      "3632/3632 [==============================] - 411s 113ms/step - loss: 1.7599 - mae: 1.7599 - mse: 10.3400\n",
      "Epoch 5/10\n",
      "3632/3632 [==============================] - 412s 114ms/step - loss: 1.7430 - mae: 1.7430 - mse: 10.1182\n",
      "Epoch 6/10\n",
      "3632/3632 [==============================] - 412s 113ms/step - loss: 1.7267 - mae: 1.7267 - mse: 10.0597\n",
      "Epoch 7/10\n",
      "3632/3632 [==============================] - 413s 114ms/step - loss: 1.7253 - mae: 1.7253 - mse: 9.9937\n",
      "Epoch 8/10\n",
      "3632/3632 [==============================] - 411s 113ms/step - loss: 1.7012 - mae: 1.7012 - mse: 9.8502\n",
      "Epoch 9/10\n",
      "3632/3632 [==============================] - 411s 113ms/step - loss: 1.7037 - mae: 1.7037 - mse: 9.7516\n",
      "Epoch 10/10\n",
      "3632/3632 [==============================] - 412s 113ms/step - loss: 1.7036 - mae: 1.7036 - mse: 9.6081\n",
      "INFO:tensorflow:Assets written to: MODELS/MODEL3_EPOCHS10_BATCH16/assets\n"
     ]
    },
    {
     "name": "stderr",
     "output_type": "stream",
     "text": [
      "INFO:tensorflow:Assets written to: MODELS/MODEL3_EPOCHS10_BATCH16/assets\n",
      "2023-09-06 04:34:23.302897: I tensorflow/core/grappler/optimizers/custom_graph_optimizer_registry.cc:114] Plugin optimizer for device_type GPU is enabled.\n"
     ]
    },
    {
     "name": "stdout",
     "output_type": "stream",
     "text": [
      "135/135 [==============================] - 10s 72ms/step - loss: 4.4508 - mae: 4.4508 - mse: 37.2774\n",
      "MAE = 4.450841903686523\n",
      "RMSE = 6.105524669349647\n",
      "  3/135 [..............................] - ETA: 8s"
     ]
    },
    {
     "name": "stderr",
     "output_type": "stream",
     "text": [
      "2023-09-06 04:34:33.163077: I tensorflow/core/grappler/optimizers/custom_graph_optimizer_registry.cc:114] Plugin optimizer for device_type GPU is enabled.\n"
     ]
    },
    {
     "name": "stdout",
     "output_type": "stream",
     "text": [
      "135/135 [==============================] - 9s 70ms/step\n"
     ]
    }
   ],
   "source": [
    "models = {new_model1: '1', new_model2: '2', new_model3: '3'}\n",
    "ep = range(10, 11)\n",
    "batches = [1, 2, 4, 8, 16]\n",
    "for m in models.keys():\n",
    "    for e in ep:\n",
    "        for b in batches:\n",
    "            with tf.device('/GPU:0'):\n",
    "                m.compile(optimizer = 'adam', loss = tf.keras.losses.MeanAbsoluteError(), metrics = ['mae', 'mse'])\n",
    "                m.fit([X_train_img, X_train_vmax], y_train, epochs = e, batch_size = b)\n",
    "                tf.keras.models.save_model(m, f\"MODELS/MODEL{models[m]}_EPOCHS{e}_BATCH{b}\")\n",
    "                res = m.evaluate([X_test_img, X_test_vmax], y_test)\n",
    "                print(\"MAE = \" + str(res[0]))\n",
    "                print(\"RMSE = \" + str((res[2]) ** 0.5))\n",
    "                preds = m.predict([X_test_img, X_test_vmax])\n",
    "                x = np.average(preds, axis = 1)\n",
    "                test['preds'] = x\n",
    "                test.to_csv(f\"OUTPUT/MODEL{models[m]}_RESULTS{e}_{b}.csv\")\n",
    "                tf.keras.backend.clear_session()"
   ]
  },
  {
   "cell_type": "code",
   "execution_count": 43,
   "metadata": {},
   "outputs": [],
   "source": [
    "new_model1.compile(optimizer='adam',\n",
    "              loss=tf.keras.losses.MeanAbsoluteError(),\n",
    "              metrics=['mae', 'mse'])\n",
    "new_model2.compile(optimizer='adam',\n",
    "              loss=tf.keras.losses.MeanAbsoluteError(),\n",
    "              metrics=['mae', 'mse'])\n",
    "new_model3.compile(optimizer='adam',\n",
    "              loss=tf.keras.losses.MeanAbsoluteError(),\n",
    "              metrics=['mae', 'mse'])"
   ]
  },
  {
   "cell_type": "code",
   "execution_count": 44,
   "metadata": {},
   "outputs": [
    {
     "name": "stdout",
     "output_type": "stream",
     "text": [
      "  354/29703 [..............................] - ETA: 41:24 - loss: 55.2345 - mae: 55.2345 - mse: 3897.4333"
     ]
    },
    {
     "ename": "KeyboardInterrupt",
     "evalue": "",
     "output_type": "error",
     "traceback": [
      "\u001b[0;31m---------------------------------------------------------------------------\u001b[0m",
      "\u001b[0;31mKeyboardInterrupt\u001b[0m                         Traceback (most recent call last)",
      "Cell \u001b[0;32mIn[44], line 1\u001b[0m\n\u001b[0;32m----> 1\u001b[0m new_model1\u001b[39m.\u001b[39;49mfit([X_train_img, X_train_vmax], y_train, epochs\u001b[39m=\u001b[39;49m\u001b[39m1\u001b[39;49m, batch_size\u001b[39m=\u001b[39;49m\u001b[39m1\u001b[39;49m, validation_split \u001b[39m=\u001b[39;49m \u001b[39m0.1\u001b[39;49m)\n\u001b[1;32m      2\u001b[0m res \u001b[39m=\u001b[39m new_model1\u001b[39m.\u001b[39mevaluate([X_test_img, X_test_vmax], y_test)\n\u001b[1;32m      3\u001b[0m \u001b[39mprint\u001b[39m(\u001b[39m\"\u001b[39m\u001b[39mMAE = \u001b[39m\u001b[39m\"\u001b[39m \u001b[39m+\u001b[39m \u001b[39mstr\u001b[39m(res[\u001b[39m0\u001b[39m]))\n",
      "File \u001b[0;32m~/Documents/Global_TC_Estimation/lib/python3.11/site-packages/keras/utils/traceback_utils.py:65\u001b[0m, in \u001b[0;36mfilter_traceback.<locals>.error_handler\u001b[0;34m(*args, **kwargs)\u001b[0m\n\u001b[1;32m     63\u001b[0m filtered_tb \u001b[39m=\u001b[39m \u001b[39mNone\u001b[39;00m\n\u001b[1;32m     64\u001b[0m \u001b[39mtry\u001b[39;00m:\n\u001b[0;32m---> 65\u001b[0m     \u001b[39mreturn\u001b[39;00m fn(\u001b[39m*\u001b[39;49margs, \u001b[39m*\u001b[39;49m\u001b[39m*\u001b[39;49mkwargs)\n\u001b[1;32m     66\u001b[0m \u001b[39mexcept\u001b[39;00m \u001b[39mException\u001b[39;00m \u001b[39mas\u001b[39;00m e:\n\u001b[1;32m     67\u001b[0m     filtered_tb \u001b[39m=\u001b[39m _process_traceback_frames(e\u001b[39m.\u001b[39m__traceback__)\n",
      "File \u001b[0;32m~/Documents/Global_TC_Estimation/lib/python3.11/site-packages/keras/engine/training.py:1685\u001b[0m, in \u001b[0;36mModel.fit\u001b[0;34m(self, x, y, batch_size, epochs, verbose, callbacks, validation_split, validation_data, shuffle, class_weight, sample_weight, initial_epoch, steps_per_epoch, validation_steps, validation_batch_size, validation_freq, max_queue_size, workers, use_multiprocessing)\u001b[0m\n\u001b[1;32m   1677\u001b[0m \u001b[39mwith\u001b[39;00m tf\u001b[39m.\u001b[39mprofiler\u001b[39m.\u001b[39mexperimental\u001b[39m.\u001b[39mTrace(\n\u001b[1;32m   1678\u001b[0m     \u001b[39m\"\u001b[39m\u001b[39mtrain\u001b[39m\u001b[39m\"\u001b[39m,\n\u001b[1;32m   1679\u001b[0m     epoch_num\u001b[39m=\u001b[39mepoch,\n\u001b[0;32m   (...)\u001b[0m\n\u001b[1;32m   1682\u001b[0m     _r\u001b[39m=\u001b[39m\u001b[39m1\u001b[39m,\n\u001b[1;32m   1683\u001b[0m ):\n\u001b[1;32m   1684\u001b[0m     callbacks\u001b[39m.\u001b[39mon_train_batch_begin(step)\n\u001b[0;32m-> 1685\u001b[0m     tmp_logs \u001b[39m=\u001b[39m \u001b[39mself\u001b[39;49m\u001b[39m.\u001b[39;49mtrain_function(iterator)\n\u001b[1;32m   1686\u001b[0m     \u001b[39mif\u001b[39;00m data_handler\u001b[39m.\u001b[39mshould_sync:\n\u001b[1;32m   1687\u001b[0m         context\u001b[39m.\u001b[39masync_wait()\n",
      "File \u001b[0;32m~/Documents/Global_TC_Estimation/lib/python3.11/site-packages/tensorflow/python/util/traceback_utils.py:150\u001b[0m, in \u001b[0;36mfilter_traceback.<locals>.error_handler\u001b[0;34m(*args, **kwargs)\u001b[0m\n\u001b[1;32m    148\u001b[0m filtered_tb \u001b[39m=\u001b[39m \u001b[39mNone\u001b[39;00m\n\u001b[1;32m    149\u001b[0m \u001b[39mtry\u001b[39;00m:\n\u001b[0;32m--> 150\u001b[0m   \u001b[39mreturn\u001b[39;00m fn(\u001b[39m*\u001b[39;49margs, \u001b[39m*\u001b[39;49m\u001b[39m*\u001b[39;49mkwargs)\n\u001b[1;32m    151\u001b[0m \u001b[39mexcept\u001b[39;00m \u001b[39mException\u001b[39;00m \u001b[39mas\u001b[39;00m e:\n\u001b[1;32m    152\u001b[0m   filtered_tb \u001b[39m=\u001b[39m _process_traceback_frames(e\u001b[39m.\u001b[39m__traceback__)\n",
      "File \u001b[0;32m~/Documents/Global_TC_Estimation/lib/python3.11/site-packages/tensorflow/python/eager/polymorphic_function/polymorphic_function.py:894\u001b[0m, in \u001b[0;36mFunction.__call__\u001b[0;34m(self, *args, **kwds)\u001b[0m\n\u001b[1;32m    891\u001b[0m compiler \u001b[39m=\u001b[39m \u001b[39m\"\u001b[39m\u001b[39mxla\u001b[39m\u001b[39m\"\u001b[39m \u001b[39mif\u001b[39;00m \u001b[39mself\u001b[39m\u001b[39m.\u001b[39m_jit_compile \u001b[39melse\u001b[39;00m \u001b[39m\"\u001b[39m\u001b[39mnonXla\u001b[39m\u001b[39m\"\u001b[39m\n\u001b[1;32m    893\u001b[0m \u001b[39mwith\u001b[39;00m OptionalXlaContext(\u001b[39mself\u001b[39m\u001b[39m.\u001b[39m_jit_compile):\n\u001b[0;32m--> 894\u001b[0m   result \u001b[39m=\u001b[39m \u001b[39mself\u001b[39;49m\u001b[39m.\u001b[39;49m_call(\u001b[39m*\u001b[39;49margs, \u001b[39m*\u001b[39;49m\u001b[39m*\u001b[39;49mkwds)\n\u001b[1;32m    896\u001b[0m new_tracing_count \u001b[39m=\u001b[39m \u001b[39mself\u001b[39m\u001b[39m.\u001b[39mexperimental_get_tracing_count()\n\u001b[1;32m    897\u001b[0m without_tracing \u001b[39m=\u001b[39m (tracing_count \u001b[39m==\u001b[39m new_tracing_count)\n",
      "File \u001b[0;32m~/Documents/Global_TC_Estimation/lib/python3.11/site-packages/tensorflow/python/eager/polymorphic_function/polymorphic_function.py:926\u001b[0m, in \u001b[0;36mFunction._call\u001b[0;34m(self, *args, **kwds)\u001b[0m\n\u001b[1;32m    923\u001b[0m   \u001b[39mself\u001b[39m\u001b[39m.\u001b[39m_lock\u001b[39m.\u001b[39mrelease()\n\u001b[1;32m    924\u001b[0m   \u001b[39m# In this case we have created variables on the first call, so we run the\u001b[39;00m\n\u001b[1;32m    925\u001b[0m   \u001b[39m# defunned version which is guaranteed to never create variables.\u001b[39;00m\n\u001b[0;32m--> 926\u001b[0m   \u001b[39mreturn\u001b[39;00m \u001b[39mself\u001b[39;49m\u001b[39m.\u001b[39;49m_no_variable_creation_fn(\u001b[39m*\u001b[39;49margs, \u001b[39m*\u001b[39;49m\u001b[39m*\u001b[39;49mkwds)  \u001b[39m# pylint: disable=not-callable\u001b[39;00m\n\u001b[1;32m    927\u001b[0m \u001b[39melif\u001b[39;00m \u001b[39mself\u001b[39m\u001b[39m.\u001b[39m_variable_creation_fn \u001b[39mis\u001b[39;00m \u001b[39mnot\u001b[39;00m \u001b[39mNone\u001b[39;00m:\n\u001b[1;32m    928\u001b[0m   \u001b[39m# Release the lock early so that multiple threads can perform the call\u001b[39;00m\n\u001b[1;32m    929\u001b[0m   \u001b[39m# in parallel.\u001b[39;00m\n\u001b[1;32m    930\u001b[0m   \u001b[39mself\u001b[39m\u001b[39m.\u001b[39m_lock\u001b[39m.\u001b[39mrelease()\n",
      "File \u001b[0;32m~/Documents/Global_TC_Estimation/lib/python3.11/site-packages/tensorflow/python/eager/polymorphic_function/tracing_compiler.py:143\u001b[0m, in \u001b[0;36mTracingCompiler.__call__\u001b[0;34m(self, *args, **kwargs)\u001b[0m\n\u001b[1;32m    140\u001b[0m \u001b[39mwith\u001b[39;00m \u001b[39mself\u001b[39m\u001b[39m.\u001b[39m_lock:\n\u001b[1;32m    141\u001b[0m   (concrete_function,\n\u001b[1;32m    142\u001b[0m    filtered_flat_args) \u001b[39m=\u001b[39m \u001b[39mself\u001b[39m\u001b[39m.\u001b[39m_maybe_define_function(args, kwargs)\n\u001b[0;32m--> 143\u001b[0m \u001b[39mreturn\u001b[39;00m concrete_function\u001b[39m.\u001b[39;49m_call_flat(\n\u001b[1;32m    144\u001b[0m     filtered_flat_args, captured_inputs\u001b[39m=\u001b[39;49mconcrete_function\u001b[39m.\u001b[39;49mcaptured_inputs)\n",
      "File \u001b[0;32m~/Documents/Global_TC_Estimation/lib/python3.11/site-packages/tensorflow/python/eager/polymorphic_function/monomorphic_function.py:1757\u001b[0m, in \u001b[0;36mConcreteFunction._call_flat\u001b[0;34m(self, args, captured_inputs, cancellation_manager)\u001b[0m\n\u001b[1;32m   1753\u001b[0m possible_gradient_type \u001b[39m=\u001b[39m gradients_util\u001b[39m.\u001b[39mPossibleTapeGradientTypes(args)\n\u001b[1;32m   1754\u001b[0m \u001b[39mif\u001b[39;00m (possible_gradient_type \u001b[39m==\u001b[39m gradients_util\u001b[39m.\u001b[39mPOSSIBLE_GRADIENT_TYPES_NONE\n\u001b[1;32m   1755\u001b[0m     \u001b[39mand\u001b[39;00m executing_eagerly):\n\u001b[1;32m   1756\u001b[0m   \u001b[39m# No tape is watching; skip to running the function.\u001b[39;00m\n\u001b[0;32m-> 1757\u001b[0m   \u001b[39mreturn\u001b[39;00m \u001b[39mself\u001b[39m\u001b[39m.\u001b[39m_build_call_outputs(\u001b[39mself\u001b[39;49m\u001b[39m.\u001b[39;49m_inference_function\u001b[39m.\u001b[39;49mcall(\n\u001b[1;32m   1758\u001b[0m       ctx, args, cancellation_manager\u001b[39m=\u001b[39;49mcancellation_manager))\n\u001b[1;32m   1759\u001b[0m forward_backward \u001b[39m=\u001b[39m \u001b[39mself\u001b[39m\u001b[39m.\u001b[39m_select_forward_and_backward_functions(\n\u001b[1;32m   1760\u001b[0m     args,\n\u001b[1;32m   1761\u001b[0m     possible_gradient_type,\n\u001b[1;32m   1762\u001b[0m     executing_eagerly)\n\u001b[1;32m   1763\u001b[0m forward_function, args_with_tangents \u001b[39m=\u001b[39m forward_backward\u001b[39m.\u001b[39mforward()\n",
      "File \u001b[0;32m~/Documents/Global_TC_Estimation/lib/python3.11/site-packages/tensorflow/python/eager/polymorphic_function/monomorphic_function.py:381\u001b[0m, in \u001b[0;36m_EagerDefinedFunction.call\u001b[0;34m(self, ctx, args, cancellation_manager)\u001b[0m\n\u001b[1;32m    379\u001b[0m \u001b[39mwith\u001b[39;00m _InterpolateFunctionError(\u001b[39mself\u001b[39m):\n\u001b[1;32m    380\u001b[0m   \u001b[39mif\u001b[39;00m cancellation_manager \u001b[39mis\u001b[39;00m \u001b[39mNone\u001b[39;00m:\n\u001b[0;32m--> 381\u001b[0m     outputs \u001b[39m=\u001b[39m execute\u001b[39m.\u001b[39;49mexecute(\n\u001b[1;32m    382\u001b[0m         \u001b[39mstr\u001b[39;49m(\u001b[39mself\u001b[39;49m\u001b[39m.\u001b[39;49msignature\u001b[39m.\u001b[39;49mname),\n\u001b[1;32m    383\u001b[0m         num_outputs\u001b[39m=\u001b[39;49m\u001b[39mself\u001b[39;49m\u001b[39m.\u001b[39;49m_num_outputs,\n\u001b[1;32m    384\u001b[0m         inputs\u001b[39m=\u001b[39;49margs,\n\u001b[1;32m    385\u001b[0m         attrs\u001b[39m=\u001b[39;49mattrs,\n\u001b[1;32m    386\u001b[0m         ctx\u001b[39m=\u001b[39;49mctx)\n\u001b[1;32m    387\u001b[0m   \u001b[39melse\u001b[39;00m:\n\u001b[1;32m    388\u001b[0m     outputs \u001b[39m=\u001b[39m execute\u001b[39m.\u001b[39mexecute_with_cancellation(\n\u001b[1;32m    389\u001b[0m         \u001b[39mstr\u001b[39m(\u001b[39mself\u001b[39m\u001b[39m.\u001b[39msignature\u001b[39m.\u001b[39mname),\n\u001b[1;32m    390\u001b[0m         num_outputs\u001b[39m=\u001b[39m\u001b[39mself\u001b[39m\u001b[39m.\u001b[39m_num_outputs,\n\u001b[0;32m   (...)\u001b[0m\n\u001b[1;32m    393\u001b[0m         ctx\u001b[39m=\u001b[39mctx,\n\u001b[1;32m    394\u001b[0m         cancellation_manager\u001b[39m=\u001b[39mcancellation_manager)\n",
      "File \u001b[0;32m~/Documents/Global_TC_Estimation/lib/python3.11/site-packages/tensorflow/python/eager/execute.py:52\u001b[0m, in \u001b[0;36mquick_execute\u001b[0;34m(op_name, num_outputs, inputs, attrs, ctx, name)\u001b[0m\n\u001b[1;32m     50\u001b[0m \u001b[39mtry\u001b[39;00m:\n\u001b[1;32m     51\u001b[0m   ctx\u001b[39m.\u001b[39mensure_initialized()\n\u001b[0;32m---> 52\u001b[0m   tensors \u001b[39m=\u001b[39m pywrap_tfe\u001b[39m.\u001b[39;49mTFE_Py_Execute(ctx\u001b[39m.\u001b[39;49m_handle, device_name, op_name,\n\u001b[1;32m     53\u001b[0m                                       inputs, attrs, num_outputs)\n\u001b[1;32m     54\u001b[0m \u001b[39mexcept\u001b[39;00m core\u001b[39m.\u001b[39m_NotOkStatusException \u001b[39mas\u001b[39;00m e:\n\u001b[1;32m     55\u001b[0m   \u001b[39mif\u001b[39;00m name \u001b[39mis\u001b[39;00m \u001b[39mnot\u001b[39;00m \u001b[39mNone\u001b[39;00m:\n",
      "\u001b[0;31mKeyboardInterrupt\u001b[0m: "
     ]
    }
   ],
   "source": [
    "new_model1.fit([X_train_img, X_train_vmax], y_train, epochs=1, batch_size=1, validation_split = 0.1)\n",
    "res = new_model1.evaluate([X_test_img, X_test_vmax], y_test)\n",
    "print(\"MAE = \" + str(res[0]))\n",
    "print(\"RMSE = \" + str((res[2]) ** 0.5))\n",
    "preds = new_model1.predict(X_test_img)"
   ]
  },
  {
   "cell_type": "code",
   "execution_count": null,
   "metadata": {},
   "outputs": [],
   "source": [
    "x = np.average(preds, axis = 1)\n",
    "x.size"
   ]
  },
  {
   "cell_type": "code",
   "execution_count": null,
   "metadata": {},
   "outputs": [],
   "source": [
    "test['preds'] = x\n",
    "test"
   ]
  },
  {
   "cell_type": "code",
   "execution_count": null,
   "metadata": {},
   "outputs": [],
   "source": [
    "test.to_csv(\"OUTPUT/MODEL1_RESULTS.csv\")"
   ]
  },
  {
   "cell_type": "code",
   "execution_count": null,
   "metadata": {},
   "outputs": [],
   "source": []
  },
  {
   "cell_type": "code",
   "execution_count": null,
   "metadata": {},
   "outputs": [],
   "source": [
    "model1 = keras.Sequential([\n",
    "   keras.layers.Conv2D(64,5, activation = 'relu', input_shape = (24,24,1)),\n",
    "   keras.layers.Conv2D(64,5, activation = 'relu'),\n",
    "   keras.layers.Conv2D(64,1, activation = 'relu'),\n",
    "   keras.layers.MaxPool2D((2,2), strides = 2),\n",
    "   keras.layers.BatchNormalization(),\n",
    "   keras.layers.Conv2D(64, 4, activation='relu'),\n",
    "   keras.layers.Conv2D(64, 4, activation='relu'),\n",
    "   keras.layers.Conv2D(256,1, activation = 'relu'),\n",
    "   keras.layers.BatchNormalization(),\n",
    "   keras.layers.Flatten(),\n",
    "   keras.layers.Dense(256),\n",
    "   keras.layers.Dense(165)\n",
    "])\n",
    "\n",
    "model2 = keras.Sequential([\n",
    "   keras.layers.Conv2D(256, 5, activation='relu', input_shape=(24,24,1)),\n",
    "   keras.layers.MaxPool2D(2,2),\n",
    "   keras.layers.BatchNormalization(),\n",
    "   keras.layers.Conv2D(128, 1, activation = 'relu'),\n",
    "   keras.layers.Conv2D(128,3, activation = 'relu'), \n",
    "   keras.layers.MaxPool2D(2,2),\n",
    "   keras.layers.BatchNormalization(),\n",
    "   keras.layers.Conv2D(64, 1, activation = 'relu'),\n",
    "   keras.layers.Conv2D(64,2, activation = 'relu'), \n",
    "   keras.layers.MaxPool2D(2,2),\n",
    "   keras.layers.BatchNormalization(),\n",
    "   keras.layers.Flatten(),\n",
    "   keras.layers.Dense(165, activation = 'linear')\n",
    "])\n",
    "model3 = keras.Sequential([\n",
    "    keras.layers.Conv2D(256, (5,2), activation='relu', input_shape=(24,24,1)),\n",
    "    keras.layers.Conv2D(256, (2,5), activation = 'relu'),\n",
    "    keras.layers.MaxPool2D(2,2),\n",
    "    keras.layers.BatchNormalization(),\n",
    "    keras.layers.Conv2D(128,3, activation = 'relu'), \n",
    "    keras.layers.MaxPool2D(2,2),\n",
    "    keras.layers.BatchNormalization(),\n",
    "    keras.layers.Conv2D(64,2, activation = 'relu'), \n",
    "    keras.layers.MaxPool2D(2,2),\n",
    "    keras.layers.BatchNormalization(),\n",
    "    keras.layers.Flatten(),\n",
    "    keras.layers.Dense(165)\n",
    "])\n",
    "model4 = keras.Sequential([\n",
    "    keras.layers.Conv2D(256, (5,5), activation = 'relu', input_shape = (24,24,1)), \n",
    "    keras.layers.MaxPool2D(2,2), \n",
    "    keras.layers.Flatten(), \n",
    "    keras.layers.Dense(165)\n",
    "])\n",
    "\n",
    "\n",
    "model1.summary()\n",
    "model2.summary()\n",
    "model3.summary()\n",
    "model4.summary()"
   ]
  },
  {
   "cell_type": "code",
   "execution_count": null,
   "metadata": {},
   "outputs": [],
   "source": [
    "model3.fit(X_train_img, y_train, epochs=3, batch_size=32, validation_split = 0.1)\n",
    "res = model3.evaluate(X_test_img, y_test)\n",
    "print(\"MAE = \" + str(res[0]))\n",
    "print(\"RMSE = \" + str((res[2]) ** 0.5))"
   ]
  }
 ],
 "metadata": {
  "kernelspec": {
   "display_name": "Python 3",
   "language": "python",
   "name": "python3"
  },
  "language_info": {
   "codemirror_mode": {
    "name": "ipython",
    "version": 3
   },
   "file_extension": ".py",
   "mimetype": "text/x-python",
   "name": "python",
   "nbconvert_exporter": "python",
   "pygments_lexer": "ipython3",
   "version": "3.11.3"
  }
 },
 "nbformat": 4,
 "nbformat_minor": 2
}
